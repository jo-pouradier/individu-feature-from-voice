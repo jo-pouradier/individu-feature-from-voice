{
 "cells": [
  {
   "cell_type": "code",
   "execution_count": 12,
   "metadata": {
    "ExecuteTime": {
     "end_time": "2024-12-04T14:03:04.565364Z",
     "start_time": "2024-12-04T14:02:42.211528Z"
    }
   },
   "outputs": [
    {
     "name": "stdout",
     "output_type": "stream",
     "text": [
      "Requirement already satisfied: pandas in d:\\vs code\\individu-feature-from-voice\\.venv\\lib\\site-packages (2.2.3)\n",
      "Requirement already satisfied: numpy>=1.23.2 in d:\\vs code\\individu-feature-from-voice\\.venv\\lib\\site-packages (from pandas) (2.0.2)\n",
      "Requirement already satisfied: python-dateutil>=2.8.2 in d:\\vs code\\individu-feature-from-voice\\.venv\\lib\\site-packages (from pandas) (2.9.0.post0)\n",
      "Requirement already satisfied: pytz>=2020.1 in d:\\vs code\\individu-feature-from-voice\\.venv\\lib\\site-packages (from pandas) (2024.2)\n",
      "Requirement already satisfied: tzdata>=2022.7 in d:\\vs code\\individu-feature-from-voice\\.venv\\lib\\site-packages (from pandas) (2024.2)\n",
      "Requirement already satisfied: six>=1.5 in d:\\vs code\\individu-feature-from-voice\\.venv\\lib\\site-packages (from python-dateutil>=2.8.2->pandas) (1.17.0)\n",
      "Requirement already satisfied: matplotlib in d:\\vs code\\individu-feature-from-voice\\.venv\\lib\\site-packages (3.9.3)\n",
      "Requirement already satisfied: contourpy>=1.0.1 in d:\\vs code\\individu-feature-from-voice\\.venv\\lib\\site-packages (from matplotlib) (1.3.1)\n",
      "Requirement already satisfied: cycler>=0.10 in d:\\vs code\\individu-feature-from-voice\\.venv\\lib\\site-packages (from matplotlib) (0.12.1)\n",
      "Requirement already satisfied: fonttools>=4.22.0 in d:\\vs code\\individu-feature-from-voice\\.venv\\lib\\site-packages (from matplotlib) (4.55.1)\n",
      "Requirement already satisfied: kiwisolver>=1.3.1 in d:\\vs code\\individu-feature-from-voice\\.venv\\lib\\site-packages (from matplotlib) (1.4.7)\n",
      "Requirement already satisfied: numpy>=1.23 in d:\\vs code\\individu-feature-from-voice\\.venv\\lib\\site-packages (from matplotlib) (2.0.2)\n",
      "Requirement already satisfied: packaging>=20.0 in d:\\vs code\\individu-feature-from-voice\\.venv\\lib\\site-packages (from matplotlib) (24.2)\n",
      "Requirement already satisfied: pillow>=8 in d:\\vs code\\individu-feature-from-voice\\.venv\\lib\\site-packages (from matplotlib) (11.0.0)\n",
      "Requirement already satisfied: pyparsing>=2.3.1 in d:\\vs code\\individu-feature-from-voice\\.venv\\lib\\site-packages (from matplotlib) (3.2.0)\n",
      "Requirement already satisfied: python-dateutil>=2.7 in d:\\vs code\\individu-feature-from-voice\\.venv\\lib\\site-packages (from matplotlib) (2.9.0.post0)\n",
      "Requirement already satisfied: six>=1.5 in d:\\vs code\\individu-feature-from-voice\\.venv\\lib\\site-packages (from python-dateutil>=2.7->matplotlib) (1.17.0)\n",
      "Requirement already satisfied: seaborn in d:\\vs code\\individu-feature-from-voice\\.venv\\lib\\site-packages (0.13.2)\n",
      "Requirement already satisfied: numpy!=1.24.0,>=1.20 in d:\\vs code\\individu-feature-from-voice\\.venv\\lib\\site-packages (from seaborn) (2.0.2)\n",
      "Requirement already satisfied: pandas>=1.2 in d:\\vs code\\individu-feature-from-voice\\.venv\\lib\\site-packages (from seaborn) (2.2.3)\n",
      "Requirement already satisfied: matplotlib!=3.6.1,>=3.4 in d:\\vs code\\individu-feature-from-voice\\.venv\\lib\\site-packages (from seaborn) (3.9.3)\n",
      "Requirement already satisfied: contourpy>=1.0.1 in d:\\vs code\\individu-feature-from-voice\\.venv\\lib\\site-packages (from matplotlib!=3.6.1,>=3.4->seaborn) (1.3.1)\n",
      "Requirement already satisfied: cycler>=0.10 in d:\\vs code\\individu-feature-from-voice\\.venv\\lib\\site-packages (from matplotlib!=3.6.1,>=3.4->seaborn) (0.12.1)\n",
      "Requirement already satisfied: fonttools>=4.22.0 in d:\\vs code\\individu-feature-from-voice\\.venv\\lib\\site-packages (from matplotlib!=3.6.1,>=3.4->seaborn) (4.55.1)\n",
      "Requirement already satisfied: kiwisolver>=1.3.1 in d:\\vs code\\individu-feature-from-voice\\.venv\\lib\\site-packages (from matplotlib!=3.6.1,>=3.4->seaborn) (1.4.7)\n",
      "Requirement already satisfied: packaging>=20.0 in d:\\vs code\\individu-feature-from-voice\\.venv\\lib\\site-packages (from matplotlib!=3.6.1,>=3.4->seaborn) (24.2)\n",
      "Requirement already satisfied: pillow>=8 in d:\\vs code\\individu-feature-from-voice\\.venv\\lib\\site-packages (from matplotlib!=3.6.1,>=3.4->seaborn) (11.0.0)\n",
      "Requirement already satisfied: pyparsing>=2.3.1 in d:\\vs code\\individu-feature-from-voice\\.venv\\lib\\site-packages (from matplotlib!=3.6.1,>=3.4->seaborn) (3.2.0)\n",
      "Requirement already satisfied: python-dateutil>=2.7 in d:\\vs code\\individu-feature-from-voice\\.venv\\lib\\site-packages (from matplotlib!=3.6.1,>=3.4->seaborn) (2.9.0.post0)\n",
      "Requirement already satisfied: pytz>=2020.1 in d:\\vs code\\individu-feature-from-voice\\.venv\\lib\\site-packages (from pandas>=1.2->seaborn) (2024.2)\n",
      "Requirement already satisfied: tzdata>=2022.7 in d:\\vs code\\individu-feature-from-voice\\.venv\\lib\\site-packages (from pandas>=1.2->seaborn) (2024.2)\n",
      "Requirement already satisfied: six>=1.5 in d:\\vs code\\individu-feature-from-voice\\.venv\\lib\\site-packages (from python-dateutil>=2.7->matplotlib!=3.6.1,>=3.4->seaborn) (1.17.0)\n",
      "Requirement already satisfied: tensorflow in d:\\vs code\\individu-feature-from-voice\\.venv\\lib\\site-packages (2.18.0)\n",
      "Requirement already satisfied: tensorflow-intel==2.18.0 in d:\\vs code\\individu-feature-from-voice\\.venv\\lib\\site-packages (from tensorflow) (2.18.0)\n",
      "Requirement already satisfied: absl-py>=1.0.0 in d:\\vs code\\individu-feature-from-voice\\.venv\\lib\\site-packages (from tensorflow-intel==2.18.0->tensorflow) (2.1.0)\n",
      "Requirement already satisfied: astunparse>=1.6.0 in d:\\vs code\\individu-feature-from-voice\\.venv\\lib\\site-packages (from tensorflow-intel==2.18.0->tensorflow) (1.6.3)\n",
      "Requirement already satisfied: flatbuffers>=24.3.25 in d:\\vs code\\individu-feature-from-voice\\.venv\\lib\\site-packages (from tensorflow-intel==2.18.0->tensorflow) (24.3.25)\n",
      "Requirement already satisfied: gast!=0.5.0,!=0.5.1,!=0.5.2,>=0.2.1 in d:\\vs code\\individu-feature-from-voice\\.venv\\lib\\site-packages (from tensorflow-intel==2.18.0->tensorflow) (0.6.0)\n",
      "Requirement already satisfied: google-pasta>=0.1.1 in d:\\vs code\\individu-feature-from-voice\\.venv\\lib\\site-packages (from tensorflow-intel==2.18.0->tensorflow) (0.2.0)\n",
      "Requirement already satisfied: libclang>=13.0.0 in d:\\vs code\\individu-feature-from-voice\\.venv\\lib\\site-packages (from tensorflow-intel==2.18.0->tensorflow) (18.1.1)\n",
      "Requirement already satisfied: opt-einsum>=2.3.2 in d:\\vs code\\individu-feature-from-voice\\.venv\\lib\\site-packages (from tensorflow-intel==2.18.0->tensorflow) (3.4.0)\n",
      "Requirement already satisfied: packaging in d:\\vs code\\individu-feature-from-voice\\.venv\\lib\\site-packages (from tensorflow-intel==2.18.0->tensorflow) (24.2)\n",
      "Requirement already satisfied: protobuf!=4.21.0,!=4.21.1,!=4.21.2,!=4.21.3,!=4.21.4,!=4.21.5,<6.0.0dev,>=3.20.3 in d:\\vs code\\individu-feature-from-voice\\.venv\\lib\\site-packages (from tensorflow-intel==2.18.0->tensorflow) (5.29.0)\n",
      "Requirement already satisfied: requests<3,>=2.21.0 in d:\\vs code\\individu-feature-from-voice\\.venv\\lib\\site-packages (from tensorflow-intel==2.18.0->tensorflow) (2.32.3)\n",
      "Requirement already satisfied: setuptools in d:\\vs code\\individu-feature-from-voice\\.venv\\lib\\site-packages (from tensorflow-intel==2.18.0->tensorflow) (65.5.0)\n",
      "Requirement already satisfied: six>=1.12.0 in d:\\vs code\\individu-feature-from-voice\\.venv\\lib\\site-packages (from tensorflow-intel==2.18.0->tensorflow) (1.17.0)\n",
      "Requirement already satisfied: termcolor>=1.1.0 in d:\\vs code\\individu-feature-from-voice\\.venv\\lib\\site-packages (from tensorflow-intel==2.18.0->tensorflow) (2.5.0)\n",
      "Requirement already satisfied: typing-extensions>=3.6.6 in d:\\vs code\\individu-feature-from-voice\\.venv\\lib\\site-packages (from tensorflow-intel==2.18.0->tensorflow) (4.12.2)\n",
      "Requirement already satisfied: wrapt>=1.11.0 in d:\\vs code\\individu-feature-from-voice\\.venv\\lib\\site-packages (from tensorflow-intel==2.18.0->tensorflow) (1.17.0)\n",
      "Requirement already satisfied: grpcio<2.0,>=1.24.3 in d:\\vs code\\individu-feature-from-voice\\.venv\\lib\\site-packages (from tensorflow-intel==2.18.0->tensorflow) (1.68.1)\n",
      "Requirement already satisfied: tensorboard<2.19,>=2.18 in d:\\vs code\\individu-feature-from-voice\\.venv\\lib\\site-packages (from tensorflow-intel==2.18.0->tensorflow) (2.18.0)\n",
      "Requirement already satisfied: keras>=3.5.0 in d:\\vs code\\individu-feature-from-voice\\.venv\\lib\\site-packages (from tensorflow-intel==2.18.0->tensorflow) (3.7.0)\n",
      "Requirement already satisfied: numpy<2.1.0,>=1.26.0 in d:\\vs code\\individu-feature-from-voice\\.venv\\lib\\site-packages (from tensorflow-intel==2.18.0->tensorflow) (2.0.2)\n",
      "Requirement already satisfied: h5py>=3.11.0 in d:\\vs code\\individu-feature-from-voice\\.venv\\lib\\site-packages (from tensorflow-intel==2.18.0->tensorflow) (3.12.1)\n",
      "Requirement already satisfied: ml-dtypes<0.5.0,>=0.4.0 in d:\\vs code\\individu-feature-from-voice\\.venv\\lib\\site-packages (from tensorflow-intel==2.18.0->tensorflow) (0.4.1)\n",
      "Requirement already satisfied: tensorflow-io-gcs-filesystem>=0.23.1 in d:\\vs code\\individu-feature-from-voice\\.venv\\lib\\site-packages (from tensorflow-intel==2.18.0->tensorflow) (0.31.0)\n",
      "Requirement already satisfied: wheel<1.0,>=0.23.0 in d:\\vs code\\individu-feature-from-voice\\.venv\\lib\\site-packages (from astunparse>=1.6.0->tensorflow-intel==2.18.0->tensorflow) (0.45.1)\n",
      "Requirement already satisfied: rich in d:\\vs code\\individu-feature-from-voice\\.venv\\lib\\site-packages (from keras>=3.5.0->tensorflow-intel==2.18.0->tensorflow) (13.9.4)\n",
      "Requirement already satisfied: namex in d:\\vs code\\individu-feature-from-voice\\.venv\\lib\\site-packages (from keras>=3.5.0->tensorflow-intel==2.18.0->tensorflow) (0.0.8)\n",
      "Requirement already satisfied: optree in d:\\vs code\\individu-feature-from-voice\\.venv\\lib\\site-packages (from keras>=3.5.0->tensorflow-intel==2.18.0->tensorflow) (0.13.1)\n",
      "Requirement already satisfied: charset-normalizer<4,>=2 in d:\\vs code\\individu-feature-from-voice\\.venv\\lib\\site-packages (from requests<3,>=2.21.0->tensorflow-intel==2.18.0->tensorflow) (3.4.0)\n",
      "Requirement already satisfied: idna<4,>=2.5 in d:\\vs code\\individu-feature-from-voice\\.venv\\lib\\site-packages (from requests<3,>=2.21.0->tensorflow-intel==2.18.0->tensorflow) (3.10)\n",
      "Requirement already satisfied: urllib3<3,>=1.21.1 in d:\\vs code\\individu-feature-from-voice\\.venv\\lib\\site-packages (from requests<3,>=2.21.0->tensorflow-intel==2.18.0->tensorflow) (2.2.3)\n",
      "Requirement already satisfied: certifi>=2017.4.17 in d:\\vs code\\individu-feature-from-voice\\.venv\\lib\\site-packages (from requests<3,>=2.21.0->tensorflow-intel==2.18.0->tensorflow) (2024.8.30)\n",
      "Requirement already satisfied: markdown>=2.6.8 in d:\\vs code\\individu-feature-from-voice\\.venv\\lib\\site-packages (from tensorboard<2.19,>=2.18->tensorflow-intel==2.18.0->tensorflow) (3.7)\n",
      "Requirement already satisfied: tensorboard-data-server<0.8.0,>=0.7.0 in d:\\vs code\\individu-feature-from-voice\\.venv\\lib\\site-packages (from tensorboard<2.19,>=2.18->tensorflow-intel==2.18.0->tensorflow) (0.7.2)\n",
      "Requirement already satisfied: werkzeug>=1.0.1 in d:\\vs code\\individu-feature-from-voice\\.venv\\lib\\site-packages (from tensorboard<2.19,>=2.18->tensorflow-intel==2.18.0->tensorflow) (3.1.3)\n",
      "Requirement already satisfied: MarkupSafe>=2.1.1 in d:\\vs code\\individu-feature-from-voice\\.venv\\lib\\site-packages (from werkzeug>=1.0.1->tensorboard<2.19,>=2.18->tensorflow-intel==2.18.0->tensorflow) (3.0.2)\n",
      "Requirement already satisfied: markdown-it-py>=2.2.0 in d:\\vs code\\individu-feature-from-voice\\.venv\\lib\\site-packages (from rich->keras>=3.5.0->tensorflow-intel==2.18.0->tensorflow) (3.0.0)\n",
      "Requirement already satisfied: pygments<3.0.0,>=2.13.0 in d:\\vs code\\individu-feature-from-voice\\.venv\\lib\\site-packages (from rich->keras>=3.5.0->tensorflow-intel==2.18.0->tensorflow) (2.18.0)\n",
      "Requirement already satisfied: mdurl~=0.1 in d:\\vs code\\individu-feature-from-voice\\.venv\\lib\\site-packages (from markdown-it-py>=2.2.0->rich->keras>=3.5.0->tensorflow-intel==2.18.0->tensorflow) (0.1.2)\n",
      "Collecting scikit-learn\n",
      "  Using cached scikit_learn-1.5.2-cp311-cp311-win_amd64.whl.metadata (13 kB)\n",
      "Requirement already satisfied: numpy>=1.19.5 in d:\\vs code\\individu-feature-from-voice\\.venv\\lib\\site-packages (from scikit-learn) (2.0.2)\n",
      "Collecting scipy>=1.6.0 (from scikit-learn)\n",
      "  Using cached scipy-1.14.1-cp311-cp311-win_amd64.whl.metadata (60 kB)\n",
      "Collecting joblib>=1.2.0 (from scikit-learn)\n",
      "  Using cached joblib-1.4.2-py3-none-any.whl.metadata (5.4 kB)\n",
      "Collecting threadpoolctl>=3.1.0 (from scikit-learn)\n",
      "  Using cached threadpoolctl-3.5.0-py3-none-any.whl.metadata (13 kB)\n",
      "Using cached scikit_learn-1.5.2-cp311-cp311-win_amd64.whl (11.0 MB)\n",
      "Using cached joblib-1.4.2-py3-none-any.whl (301 kB)\n",
      "Using cached scipy-1.14.1-cp311-cp311-win_amd64.whl (44.8 MB)\n",
      "Using cached threadpoolctl-3.5.0-py3-none-any.whl (18 kB)\n",
      "Installing collected packages: threadpoolctl, scipy, joblib, scikit-learn\n",
      "Successfully installed joblib-1.4.2 scikit-learn-1.5.2 scipy-1.14.1 threadpoolctl-3.5.0\n",
      "Note: you may need to restart the kernel to use updated packages.\n"
     ]
    }
   ],
   "source": [
    "!pip install pandas\n",
    "!pip install matplotlib\n",
    "!pip install seaborn\n",
    "!pip install tensorflow\n",
    "%pip install scikit-learn"
   ]
  },
  {
   "cell_type": "code",
   "execution_count": 5,
   "metadata": {
    "ExecuteTime": {
     "end_time": "2024-12-04T13:40:32.865128Z",
     "start_time": "2024-12-04T13:40:32.861828Z"
    }
   },
   "outputs": [],
   "source": [
    "import pandas as pd"
   ]
  },
  {
   "cell_type": "code",
   "execution_count": 6,
   "metadata": {
    "ExecuteTime": {
     "end_time": "2024-12-04T13:40:33.981568Z",
     "start_time": "2024-12-04T13:40:33.977908Z"
    }
   },
   "outputs": [],
   "source": [
    "# Hyperparameters\n",
    "age_loss_weight = 0.5\n",
    "gender_loss_weight = 0.5\n",
    "learning_rate = 0.001"
   ]
  },
  {
   "cell_type": "code",
   "execution_count": 7,
   "metadata": {
    "ExecuteTime": {
     "end_time": "2024-12-04T13:50:49.667923Z",
     "start_time": "2024-12-04T13:50:49.560966Z"
    }
   },
   "outputs": [],
   "source": [
    "label_data = pd.read_csv(f\"./validated_filtered_100.csv\", sep=\",\")"
   ]
  },
  {
   "cell_type": "code",
   "execution_count": 8,
   "metadata": {
    "ExecuteTime": {
     "end_time": "2024-12-04T13:50:50.988935Z",
     "start_time": "2024-12-04T13:50:50.978418Z"
    }
   },
   "outputs": [
    {
     "data": {
      "text/plain": [
       "path        0\n",
       "sentence    0\n",
       "age         0\n",
       "gender      0\n",
       "dtype: int64"
      ]
     },
     "execution_count": 8,
     "metadata": {},
     "output_type": "execute_result"
    }
   ],
   "source": [
    "label_data.isna().sum()"
   ]
  },
  {
   "cell_type": "code",
   "execution_count": 47,
   "metadata": {
    "ExecuteTime": {
     "end_time": "2024-12-04T13:50:52.493621Z",
     "start_time": "2024-12-04T13:50:52.487398Z"
    }
   },
   "outputs": [
    {
     "data": {
      "text/html": [
       "<div>\n",
       "<style scoped>\n",
       "    .dataframe tbody tr th:only-of-type {\n",
       "        vertical-align: middle;\n",
       "    }\n",
       "\n",
       "    .dataframe tbody tr th {\n",
       "        vertical-align: top;\n",
       "    }\n",
       "\n",
       "    .dataframe thead th {\n",
       "        text-align: right;\n",
       "    }\n",
       "</style>\n",
       "<table border=\"1\" class=\"dataframe\">\n",
       "  <thead>\n",
       "    <tr style=\"text-align: right;\">\n",
       "      <th></th>\n",
       "      <th>path</th>\n",
       "      <th>sentence</th>\n",
       "      <th>age</th>\n",
       "      <th>gender</th>\n",
       "    </tr>\n",
       "  </thead>\n",
       "  <tbody>\n",
       "    <tr>\n",
       "      <th>0</th>\n",
       "      <td>common_voice_fr_17323684.mp3</td>\n",
       "      <td>Puis me regardant d'un air peu sympathique</td>\n",
       "      <td>fifties</td>\n",
       "      <td>female_feminine</td>\n",
       "    </tr>\n",
       "    <tr>\n",
       "      <th>1</th>\n",
       "      <td>common_voice_fr_19737278.mp3</td>\n",
       "      <td>Ronit est une jeune femme indépendante qui tra...</td>\n",
       "      <td>fifties</td>\n",
       "      <td>female_feminine</td>\n",
       "    </tr>\n",
       "    <tr>\n",
       "      <th>2</th>\n",
       "      <td>common_voice_fr_22078126.mp3</td>\n",
       "      <td>cinq</td>\n",
       "      <td>fifties</td>\n",
       "      <td>female_feminine</td>\n",
       "    </tr>\n",
       "    <tr>\n",
       "      <th>3</th>\n",
       "      <td>common_voice_fr_22078130.mp3</td>\n",
       "      <td>non</td>\n",
       "      <td>fifties</td>\n",
       "      <td>female_feminine</td>\n",
       "    </tr>\n",
       "    <tr>\n",
       "      <th>4</th>\n",
       "      <td>common_voice_fr_22765327.mp3</td>\n",
       "      <td>La technique des statues de terre cuite témoig...</td>\n",
       "      <td>fifties</td>\n",
       "      <td>female_feminine</td>\n",
       "    </tr>\n",
       "  </tbody>\n",
       "</table>\n",
       "</div>"
      ],
      "text/plain": [
       "                           path  \\\n",
       "0  common_voice_fr_17323684.mp3   \n",
       "1  common_voice_fr_19737278.mp3   \n",
       "2  common_voice_fr_22078126.mp3   \n",
       "3  common_voice_fr_22078130.mp3   \n",
       "4  common_voice_fr_22765327.mp3   \n",
       "\n",
       "                                            sentence      age           gender  \n",
       "0         Puis me regardant d'un air peu sympathique  fifties  female_feminine  \n",
       "1  Ronit est une jeune femme indépendante qui tra...  fifties  female_feminine  \n",
       "2                                               cinq  fifties  female_feminine  \n",
       "3                                                non  fifties  female_feminine  \n",
       "4  La technique des statues de terre cuite témoig...  fifties  female_feminine  "
      ]
     },
     "execution_count": 47,
     "metadata": {},
     "output_type": "execute_result"
    }
   ],
   "source": [
    "label_data.head()"
   ]
  },
  {
   "cell_type": "code",
   "execution_count": 8,
   "metadata": {
    "ExecuteTime": {
     "end_time": "2024-12-04T14:18:38.620156Z",
     "start_time": "2024-12-04T14:18:38.610858Z"
    }
   },
   "outputs": [],
   "source": [
    "from sklearn.model_selection import train_test_split\n",
    "import matplotlib.pyplot as plt\n",
    "import seaborn as sns\n",
    "\n",
    "\n",
    "def load_audio_data(data_path, label_data):\n",
    "    for path in label_data['path']:\n",
    "        pass\n",
    "\n",
    "\n",
    "def preprocess_audio_data(audio_data):\n",
    "    return audio_data\n",
    "\n",
    "\n",
    "def show_distrib(df):\n",
    "    \"\"\"\n",
    "    Plot the distribution of age by gender\n",
    "    :param df:\n",
    "    :return:\n",
    "    \"\"\"\n",
    "    plt.figure(figsize=(10, 6))\n",
    "    ax = sns.histplot(data=df, x='age', hue='gender', multiple='stack', stat='count')\n",
    "\n",
    "    # Annotate the bars with their counts\n",
    "    for p in ax.patches:\n",
    "        ax.annotate(f'{int(p.get_height())}', (p.get_x() + p.get_width() / 2., p.get_height()),\n",
    "                    ha='center', va='center', xytext=(0, 10), textcoords='offset points')\n",
    "\n",
    "    plt.title('Distribution of Age by Gender')\n",
    "    plt.xlabel('Age')\n",
    "    plt.ylabel('Count')\n",
    "    plt.show()\n",
    "\n",
    "\n",
    "def preprocess_label_data(label_data, keep_age=False):\n",
    "    gender_dict = {\n",
    "        'male_masculine': 0,\n",
    "        'female_feminine': 1\n",
    "    }\n",
    "    label_data = label_data.copy()\n",
    "    if keep_age:\n",
    "        serie_age = label_data['age'].copy()\n",
    "    label_data = pd.get_dummies(label_data, columns=['age'])\n",
    "    label_data['gender'] = label_data['gender'].map(gender_dict)\n",
    "    return pd.concat([label_data, serie_age], axis=1) if keep_age else label_data\n",
    "\n",
    "\n",
    "def split_label_data(label_data, train_ratio=0.8, random_state=0):\n",
    "    train_data, test_data = train_test_split(label_data, train_size=train_ratio, random_state=random_state,\n",
    "                                             stratify=label_data['gender'])\n",
    "    return train_data, test_data"
   ]
  },
  {
   "cell_type": "code",
   "execution_count": 9,
   "metadata": {
    "ExecuteTime": {
     "end_time": "2024-12-04T14:18:43.327048Z",
     "start_time": "2024-12-04T14:18:43.280900Z"
    }
   },
   "outputs": [],
   "source": [
    "Y_train, Y_test = split_label_data(preprocess_label_data(label_data,True))"
   ]
  },
  {
   "cell_type": "code",
   "execution_count": 178,
   "metadata": {
    "ExecuteTime": {
     "end_time": "2024-12-04T14:18:44.370312Z",
     "start_time": "2024-12-04T14:18:44.360982Z"
    }
   },
   "outputs": [
    {
     "data": {
      "text/html": [
       "<div>\n",
       "<style scoped>\n",
       "    .dataframe tbody tr th:only-of-type {\n",
       "        vertical-align: middle;\n",
       "    }\n",
       "\n",
       "    .dataframe tbody tr th {\n",
       "        vertical-align: top;\n",
       "    }\n",
       "\n",
       "    .dataframe thead th {\n",
       "        text-align: right;\n",
       "    }\n",
       "</style>\n",
       "<table border=\"1\" class=\"dataframe\">\n",
       "  <thead>\n",
       "    <tr style=\"text-align: right;\">\n",
       "      <th></th>\n",
       "      <th>path</th>\n",
       "      <th>sentence</th>\n",
       "      <th>gender</th>\n",
       "      <th>age_fifties</th>\n",
       "      <th>age_fourties</th>\n",
       "      <th>age_seventies</th>\n",
       "      <th>age_sixties</th>\n",
       "      <th>age_teens</th>\n",
       "      <th>age_thirties</th>\n",
       "      <th>age_twenties</th>\n",
       "      <th>age</th>\n",
       "    </tr>\n",
       "  </thead>\n",
       "  <tbody>\n",
       "    <tr>\n",
       "      <th>4632</th>\n",
       "      <td>common_voice_fr_38307681.mp3</td>\n",
       "      <td>Que dites-vous à l’âme humaine</td>\n",
       "      <td>1</td>\n",
       "      <td>False</td>\n",
       "      <td>False</td>\n",
       "      <td>False</td>\n",
       "      <td>False</td>\n",
       "      <td>False</td>\n",
       "      <td>False</td>\n",
       "      <td>True</td>\n",
       "      <td>twenties</td>\n",
       "    </tr>\n",
       "    <tr>\n",
       "      <th>12852</th>\n",
       "      <td>common_voice_fr_20517067.mp3</td>\n",
       "      <td>Il reçoit une éducation de qualité dans divers...</td>\n",
       "      <td>1</td>\n",
       "      <td>False</td>\n",
       "      <td>False</td>\n",
       "      <td>False</td>\n",
       "      <td>True</td>\n",
       "      <td>False</td>\n",
       "      <td>False</td>\n",
       "      <td>False</td>\n",
       "      <td>sixties</td>\n",
       "    </tr>\n",
       "    <tr>\n",
       "      <th>197</th>\n",
       "      <td>common_voice_fr_23617240.mp3</td>\n",
       "      <td>Il était composé des cantons de Jussey, Amance...</td>\n",
       "      <td>1</td>\n",
       "      <td>True</td>\n",
       "      <td>False</td>\n",
       "      <td>False</td>\n",
       "      <td>False</td>\n",
       "      <td>False</td>\n",
       "      <td>False</td>\n",
       "      <td>False</td>\n",
       "      <td>fifties</td>\n",
       "    </tr>\n",
       "    <tr>\n",
       "      <th>7780</th>\n",
       "      <td>common_voice_fr_18251575.mp3</td>\n",
       "      <td>dix allée de l'Alamanda</td>\n",
       "      <td>0</td>\n",
       "      <td>False</td>\n",
       "      <td>False</td>\n",
       "      <td>False</td>\n",
       "      <td>False</td>\n",
       "      <td>True</td>\n",
       "      <td>False</td>\n",
       "      <td>False</td>\n",
       "      <td>teens</td>\n",
       "    </tr>\n",
       "    <tr>\n",
       "      <th>9015</th>\n",
       "      <td>common_voice_fr_37230167.mp3</td>\n",
       "      <td>Deux galeries courent le long des parois sur l...</td>\n",
       "      <td>0</td>\n",
       "      <td>False</td>\n",
       "      <td>True</td>\n",
       "      <td>False</td>\n",
       "      <td>False</td>\n",
       "      <td>False</td>\n",
       "      <td>False</td>\n",
       "      <td>False</td>\n",
       "      <td>fourties</td>\n",
       "    </tr>\n",
       "  </tbody>\n",
       "</table>\n",
       "</div>"
      ],
      "text/plain": [
       "                               path  \\\n",
       "4632   common_voice_fr_38307681.mp3   \n",
       "12852  common_voice_fr_20517067.mp3   \n",
       "197    common_voice_fr_23617240.mp3   \n",
       "7780   common_voice_fr_18251575.mp3   \n",
       "9015   common_voice_fr_37230167.mp3   \n",
       "\n",
       "                                                sentence  gender  age_fifties  \\\n",
       "4632                      Que dites-vous à l’âme humaine       1        False   \n",
       "12852  Il reçoit une éducation de qualité dans divers...       1        False   \n",
       "197    Il était composé des cantons de Jussey, Amance...       1         True   \n",
       "7780                             dix allée de l'Alamanda       0        False   \n",
       "9015   Deux galeries courent le long des parois sur l...       0        False   \n",
       "\n",
       "       age_fourties  age_seventies  age_sixties  age_teens  age_thirties  \\\n",
       "4632          False          False        False      False         False   \n",
       "12852         False          False         True      False         False   \n",
       "197           False          False        False      False         False   \n",
       "7780          False          False        False       True         False   \n",
       "9015           True          False        False      False         False   \n",
       "\n",
       "       age_twenties       age  \n",
       "4632           True  twenties  \n",
       "12852         False   sixties  \n",
       "197           False   fifties  \n",
       "7780          False     teens  \n",
       "9015          False  fourties  "
      ]
     },
     "execution_count": 178,
     "metadata": {},
     "output_type": "execute_result"
    }
   ],
   "source": [
    "Y_train.head()"
   ]
  },
  {
   "cell_type": "code",
   "execution_count": 51,
   "metadata": {
    "ExecuteTime": {
     "end_time": "2024-12-04T13:56:28.289763Z",
     "start_time": "2024-12-04T13:56:27.910463Z"
    }
   },
   "outputs": [
    {
     "data": {
      "image/png": "[encoded data removed]",
      "text/plain": [
       "<Figure size 1000x600 with 1 Axes>"
      ]
     },
     "metadata": {},
     "output_type": "display_data"
    },
    {
     "data": {
      "image/png": "[encoded data removed]",
      "text/plain": [
       "<Figure size 1000x600 with 1 Axes>"
      ]
     },
     "metadata": {},
     "output_type": "display_data"
    }
   ],
   "source": [
    "# Only run if keep age is True\n",
    "show_distrib(Y_train)\n",
    "show_distrib(Y_test)"
   ]
  },
  {
   "cell_type": "code",
   "execution_count": null,
   "metadata": {},
   "outputs": [],
   "source": [
    "import tensorflow as tf\n",
    "from tensorflow.keras.layers import Dense, TimeDistributed, Flatten, LSTM, Input,Conv1D, Conv2D, MaxPooling2D\n",
    "\n",
    "def custom_loss(y_true, y_pred):\n",
    "    \"\"\"\n",
    "    Custom loss function for the model. Must predict the age and gender of the speaker.\n",
    "    prediction: [X X X X X X X] + [X]\n",
    "                    age           gender\n",
    "    Use the following loss functions:\n",
    "    - age: mean squared error\n",
    "    - gender: binary crossentropy\n",
    "    :param y_true:\n",
    "    :param y_pred:\n",
    "    :return:\n",
    "    \"\"\"\n",
    "    age_true = y_true[:, :-1]\n",
    "    age_pred = y_pred[:, :-1]\n",
    "    gender_true = y_true[:, -1]\n",
    "    gender_pred = y_pred[:, -1]\n",
    "    age_loss = tf.keras.losses.MeanSquaredError()(age_true, age_pred)\n",
    "    gender_loss = tf.keras.losses.BinaryCrossentropy()(gender_true, gender_pred)\n",
    "    return age_loss_weight * age_loss + gender_loss_weight * gender_loss\n",
    "\n",
    "def build_model(input_shape, output_shape):\n",
    "    \"\"\"\n",
    "    Build the model to predict the age and\n",
    "    :param input_shape:\n",
    "    :param output_shape:\n",
    "    :return:\n",
    "    \"\"\"\n",
    "    model = tf.keras.models.Sequential()\n",
    "    model.add(Conv1D(32, (3, 3), activation='relu', input_shape=input_shape)) \n",
    "    model.add(MaxPooling2D((2, 2)))\n",
    "    model.add(Conv1D(64, (3, 3), activation='relu')) \n",
    "    model.add(MaxPooling2D((2, 2)))\n",
    "    model.add(Conv1D(64, (3, 3), activation='relu'))\n",
    "    model.add(Flatten())\n",
    "    model.add(Dense(64, activation='relu'))\n",
    "    model.add(Dense(10, activation='softmax'))\n",
    "    model.add(Dense(output_shape, activation=\"softmax\"))\n",
    "    model.summary()\n",
    "    optimizer = tf.keras.optimizers.Adam(learning_rate=learning_rate)\n",
    "    model.compile(optimizer=optimizer, loss=custom_loss)\n",
    "    return model"
   ]
  },
  {
   "cell_type": "code",
   "execution_count": 10,
   "metadata": {},
   "outputs": [
    {
     "name": "stdout",
     "output_type": "stream",
     "text": [
      "(128, 862)\n"
     ]
    }
   ],
   "source": [
    "import numpy as np\n",
    "data = np.load(\"./processed/common_voice_fr_37031557.npy\")\n",
    "print(data.shape)\n",
    "# model = build_model(data.shape[1], 7)"
   ]
  },
  {
   "cell_type": "code",
   "execution_count": 11,
   "metadata": {},
   "outputs": [],
   "source": [
    "def load_audio_data(df):\n",
    "    df_audio = df.copy()\n",
    "    df_audio['audio_data'] = df['path'].apply(lambda x: np.load(f\"./processed/{x.replace('.mp3', '.npy')}\"))   \n",
    "    return df_audio\n",
    "import time\n",
    "\n",
    "\n",
    "def model_fit(model, X_train, Y_train, X_test, Y_test, log_df,batch_size=32, epochs=10):\n",
    "    \"\"\"\n",
    "    Fit the model and save it in the log dataframe\n",
    "    :param model: model to fit \n",
    "    :param X_train: training data\n",
    "    :param Y_train: training labels\n",
    "    :param X_test: testing data\n",
    "    :param Y_test: testing labels\n",
    "    :param log_df: dataframe to save the model\n",
    "    \"\"\"\n",
    "    t0 = time.time()\n",
    "    model.fit(X_train, Y_train, validation_data=(X_test, Y_test), batch_size=batch_size, epochs=epochs)\n",
    "    model.save(f\"./model_{len(log_df)}.keras\")\n",
    "    t1 = time.time()\n",
    "    log_entry = pd.DataFrame({\n",
    "        'model': [model],\n",
    "        'time': [t1 - t0],\n",
    "        'batch_size': [batch_size],\n",
    "        'epochs': [epochs],\n",
    "        'history': model.history.history\n",
    "    })\n",
    "    log_df = pd.concat([log_df, log_entry], ignore_index=True)\n",
    "    \n",
    "    return log_df"
   ]
  },
  {
   "cell_type": "code",
   "execution_count": 12,
   "metadata": {},
   "outputs": [
    {
     "name": "stdout",
     "output_type": "stream",
     "text": [
      "      gender  age_fifties  age_fourties  age_seventies  age_sixties  \\\n",
      "898        1            0             1              0            0   \n",
      "346        0            0             0              0            0   \n",
      "211        1            0             0              0            0   \n",
      "63         1            1             0              0            0   \n",
      "1351       0            0             0              0            1   \n",
      "\n",
      "      age_teens  age_thirties  age_twenties  \n",
      "898           0             0             0  \n",
      "346           0             1             0  \n",
      "211           0             1             0  \n",
      "63            0             0             0  \n",
      "1351          0             0             0  \n",
      "(1120, 128, 862) float32\n",
      "(1120, 8)\n",
      "(280, 128, 862) float32\n",
      "(280, 8)\n"
     ]
    }
   ],
   "source": [
    "df_audio_train = load_audio_data(Y_train)\n",
    "df_audio_test = load_audio_data(Y_test)\n",
    "\n",
    "\n",
    "X_train_audio = np.array(df_audio_train.copy()['audio_data'].tolist()).astype(np.float32)\n",
    "X_test_audio = np.array(df_audio_test.copy()['audio_data'].tolist()).astype(np.float32)\n",
    "\n",
    "Y_train_audio = df_audio_train.drop(columns=['path', 'audio_data','sentence','age']).astype(np.float32)\n",
    "Y_train_audio = Y_train_audio.astype(int)\n",
    "Y_test_audio = df_audio_test.drop(columns=['path', 'audio_data','sentence','age']).astype(np.float32)\n",
    "Y_test_audio = Y_test_audio.astype(int)\n",
    "print(Y_train_audio.head())\n",
    "\n",
    "# print(Y_train.shape)\n",
    "\n",
    "# Print shapes and data types to verify\n",
    "print(X_train_audio.shape, X_train_audio.dtype)\n",
    "print(Y_train_audio.shape)\n",
    "print(X_test_audio.shape, X_test_audio.dtype)\n",
    "print(Y_test_audio.shape)\n",
    "\n",
    "\n"
   ]
  },
  {
   "cell_type": "code",
   "execution_count": 13,
   "metadata": {},
   "outputs": [
    {
     "name": "stdout",
     "output_type": "stream",
     "text": [
      "(1120, 8)\n"
     ]
    },
    {
     "name": "stderr",
     "output_type": "stream",
     "text": [
      "d:\\VS CODE\\individu-feature-from-voice\\.venv\\Lib\\site-packages\\keras\\src\\layers\\convolutional\\base_conv.py:107: UserWarning: Do not pass an `input_shape`/`input_dim` argument to a layer. When using Sequential models, prefer using an `Input(shape)` object as the first layer in the model instead.\n",
      "  super().__init__(activity_regularizer=activity_regularizer, **kwargs)\n"
     ]
    },
    {
     "ename": "ValueError",
     "evalue": "The `kernel_size` argument must be a tuple of 1 integers. Received kernel_size=(3, 3)",
     "output_type": "error",
     "traceback": [
      "\u001b[1;31m---------------------------------------------------------------------------\u001b[0m",
      "\u001b[1;31mValueError\u001b[0m                                Traceback (most recent call last)",
      "Cell \u001b[1;32mIn[13], line 2\u001b[0m\n\u001b[0;32m      1\u001b[0m \u001b[38;5;28mprint\u001b[39m(Y_train_audio\u001b[38;5;241m.\u001b[39mshape)\n\u001b[1;32m----> 2\u001b[0m model \u001b[38;5;241m=\u001b[39m \u001b[43mbuild_model\u001b[49m\u001b[43m(\u001b[49m\u001b[43m(\u001b[49m\u001b[38;5;241;43m128\u001b[39;49m\u001b[43m,\u001b[49m\u001b[43m \u001b[49m\u001b[38;5;241;43m862\u001b[39;49m\u001b[43m)\u001b[49m\u001b[43m,\u001b[49m\u001b[43m \u001b[49m\u001b[43mY_train_audio\u001b[49m\u001b[38;5;241;43m.\u001b[39;49m\u001b[43mshape\u001b[49m\u001b[43m[\u001b[49m\u001b[38;5;241;43m1\u001b[39;49m\u001b[43m]\u001b[49m\u001b[43m)\u001b[49m\n\u001b[0;32m      3\u001b[0m log \u001b[38;5;241m=\u001b[39m model_fit(model, X_train_audio, Y_train_audio, X_test_audio, Y_test_audio, pd\u001b[38;5;241m.\u001b[39mDataFrame())\n\u001b[0;32m      4\u001b[0m log\u001b[38;5;241m.\u001b[39mhead()\n",
      "Cell \u001b[1;32mIn[1], line 32\u001b[0m, in \u001b[0;36mbuild_model\u001b[1;34m(input_shape, output_shape)\u001b[0m\n\u001b[0;32m     25\u001b[0m \u001b[38;5;250m\u001b[39m\u001b[38;5;124;03m\"\"\"\u001b[39;00m\n\u001b[0;32m     26\u001b[0m \u001b[38;5;124;03mBuild the model to predict the age and\u001b[39;00m\n\u001b[0;32m     27\u001b[0m \u001b[38;5;124;03m:param input_shape:\u001b[39;00m\n\u001b[0;32m     28\u001b[0m \u001b[38;5;124;03m:param output_shape:\u001b[39;00m\n\u001b[0;32m     29\u001b[0m \u001b[38;5;124;03m:return:\u001b[39;00m\n\u001b[0;32m     30\u001b[0m \u001b[38;5;124;03m\"\"\"\u001b[39;00m\n\u001b[0;32m     31\u001b[0m model \u001b[38;5;241m=\u001b[39m tf\u001b[38;5;241m.\u001b[39mkeras\u001b[38;5;241m.\u001b[39mmodels\u001b[38;5;241m.\u001b[39mSequential()\n\u001b[1;32m---> 32\u001b[0m model\u001b[38;5;241m.\u001b[39madd(\u001b[43mConv1D\u001b[49m\u001b[43m(\u001b[49m\u001b[38;5;241;43m32\u001b[39;49m\u001b[43m,\u001b[49m\u001b[43m \u001b[49m\u001b[43m(\u001b[49m\u001b[38;5;241;43m3\u001b[39;49m\u001b[43m,\u001b[49m\u001b[43m \u001b[49m\u001b[38;5;241;43m3\u001b[39;49m\u001b[43m)\u001b[49m\u001b[43m,\u001b[49m\u001b[43m \u001b[49m\u001b[43mactivation\u001b[49m\u001b[38;5;241;43m=\u001b[39;49m\u001b[38;5;124;43m'\u001b[39;49m\u001b[38;5;124;43mrelu\u001b[39;49m\u001b[38;5;124;43m'\u001b[39;49m\u001b[43m,\u001b[49m\u001b[43m \u001b[49m\u001b[43minput_shape\u001b[49m\u001b[38;5;241;43m=\u001b[39;49m\u001b[43minput_shape\u001b[49m\u001b[43m)\u001b[49m) \n\u001b[0;32m     33\u001b[0m model\u001b[38;5;241m.\u001b[39madd(MaxPooling2D((\u001b[38;5;241m2\u001b[39m, \u001b[38;5;241m2\u001b[39m)))\n\u001b[0;32m     34\u001b[0m model\u001b[38;5;241m.\u001b[39madd(Conv1D(\u001b[38;5;241m64\u001b[39m, (\u001b[38;5;241m3\u001b[39m, \u001b[38;5;241m3\u001b[39m), activation\u001b[38;5;241m=\u001b[39m\u001b[38;5;124m'\u001b[39m\u001b[38;5;124mrelu\u001b[39m\u001b[38;5;124m'\u001b[39m)) \n",
      "File \u001b[1;32md:\\VS CODE\\individu-feature-from-voice\\.venv\\Lib\\site-packages\\keras\\src\\layers\\convolutional\\conv1d.py:115\u001b[0m, in \u001b[0;36mConv1D.__init__\u001b[1;34m(self, filters, kernel_size, strides, padding, data_format, dilation_rate, groups, activation, use_bias, kernel_initializer, bias_initializer, kernel_regularizer, bias_regularizer, activity_regularizer, kernel_constraint, bias_constraint, **kwargs)\u001b[0m\n\u001b[0;32m     95\u001b[0m \u001b[38;5;28;01mdef\u001b[39;00m \u001b[38;5;21m__init__\u001b[39m(\n\u001b[0;32m     96\u001b[0m     \u001b[38;5;28mself\u001b[39m,\n\u001b[0;32m     97\u001b[0m     filters,\n\u001b[1;32m   (...)\u001b[0m\n\u001b[0;32m    113\u001b[0m     \u001b[38;5;241m*\u001b[39m\u001b[38;5;241m*\u001b[39mkwargs,\n\u001b[0;32m    114\u001b[0m ):\n\u001b[1;32m--> 115\u001b[0m     \u001b[38;5;28;43msuper\u001b[39;49m\u001b[43m(\u001b[49m\u001b[43m)\u001b[49m\u001b[38;5;241;43m.\u001b[39;49m\u001b[38;5;21;43m__init__\u001b[39;49m\u001b[43m(\u001b[49m\n\u001b[0;32m    116\u001b[0m \u001b[43m        \u001b[49m\u001b[43mrank\u001b[49m\u001b[38;5;241;43m=\u001b[39;49m\u001b[38;5;241;43m1\u001b[39;49m\u001b[43m,\u001b[49m\n\u001b[0;32m    117\u001b[0m \u001b[43m        \u001b[49m\u001b[43mfilters\u001b[49m\u001b[38;5;241;43m=\u001b[39;49m\u001b[43mfilters\u001b[49m\u001b[43m,\u001b[49m\n\u001b[0;32m    118\u001b[0m \u001b[43m        \u001b[49m\u001b[43mkernel_size\u001b[49m\u001b[38;5;241;43m=\u001b[39;49m\u001b[43mkernel_size\u001b[49m\u001b[43m,\u001b[49m\n\u001b[0;32m    119\u001b[0m \u001b[43m        \u001b[49m\u001b[43mstrides\u001b[49m\u001b[38;5;241;43m=\u001b[39;49m\u001b[43mstrides\u001b[49m\u001b[43m,\u001b[49m\n\u001b[0;32m    120\u001b[0m \u001b[43m        \u001b[49m\u001b[43mpadding\u001b[49m\u001b[38;5;241;43m=\u001b[39;49m\u001b[43mpadding\u001b[49m\u001b[43m,\u001b[49m\n\u001b[0;32m    121\u001b[0m \u001b[43m        \u001b[49m\u001b[43mdata_format\u001b[49m\u001b[38;5;241;43m=\u001b[39;49m\u001b[43mdata_format\u001b[49m\u001b[43m,\u001b[49m\n\u001b[0;32m    122\u001b[0m \u001b[43m        \u001b[49m\u001b[43mdilation_rate\u001b[49m\u001b[38;5;241;43m=\u001b[39;49m\u001b[43mdilation_rate\u001b[49m\u001b[43m,\u001b[49m\n\u001b[0;32m    123\u001b[0m \u001b[43m        \u001b[49m\u001b[43mgroups\u001b[49m\u001b[38;5;241;43m=\u001b[39;49m\u001b[43mgroups\u001b[49m\u001b[43m,\u001b[49m\n\u001b[0;32m    124\u001b[0m \u001b[43m        \u001b[49m\u001b[43mactivation\u001b[49m\u001b[38;5;241;43m=\u001b[39;49m\u001b[43mactivation\u001b[49m\u001b[43m,\u001b[49m\n\u001b[0;32m    125\u001b[0m \u001b[43m        \u001b[49m\u001b[43muse_bias\u001b[49m\u001b[38;5;241;43m=\u001b[39;49m\u001b[43muse_bias\u001b[49m\u001b[43m,\u001b[49m\n\u001b[0;32m    126\u001b[0m \u001b[43m        \u001b[49m\u001b[43mkernel_initializer\u001b[49m\u001b[38;5;241;43m=\u001b[39;49m\u001b[43mkernel_initializer\u001b[49m\u001b[43m,\u001b[49m\n\u001b[0;32m    127\u001b[0m \u001b[43m        \u001b[49m\u001b[43mbias_initializer\u001b[49m\u001b[38;5;241;43m=\u001b[39;49m\u001b[43mbias_initializer\u001b[49m\u001b[43m,\u001b[49m\n\u001b[0;32m    128\u001b[0m \u001b[43m        \u001b[49m\u001b[43mkernel_regularizer\u001b[49m\u001b[38;5;241;43m=\u001b[39;49m\u001b[43mkernel_regularizer\u001b[49m\u001b[43m,\u001b[49m\n\u001b[0;32m    129\u001b[0m \u001b[43m        \u001b[49m\u001b[43mbias_regularizer\u001b[49m\u001b[38;5;241;43m=\u001b[39;49m\u001b[43mbias_regularizer\u001b[49m\u001b[43m,\u001b[49m\n\u001b[0;32m    130\u001b[0m \u001b[43m        \u001b[49m\u001b[43mactivity_regularizer\u001b[49m\u001b[38;5;241;43m=\u001b[39;49m\u001b[43mactivity_regularizer\u001b[49m\u001b[43m,\u001b[49m\n\u001b[0;32m    131\u001b[0m \u001b[43m        \u001b[49m\u001b[43mkernel_constraint\u001b[49m\u001b[38;5;241;43m=\u001b[39;49m\u001b[43mkernel_constraint\u001b[49m\u001b[43m,\u001b[49m\n\u001b[0;32m    132\u001b[0m \u001b[43m        \u001b[49m\u001b[43mbias_constraint\u001b[49m\u001b[38;5;241;43m=\u001b[39;49m\u001b[43mbias_constraint\u001b[49m\u001b[43m,\u001b[49m\n\u001b[0;32m    133\u001b[0m \u001b[43m        \u001b[49m\u001b[38;5;241;43m*\u001b[39;49m\u001b[38;5;241;43m*\u001b[39;49m\u001b[43mkwargs\u001b[49m\u001b[43m,\u001b[49m\n\u001b[0;32m    134\u001b[0m \u001b[43m    \u001b[49m\u001b[43m)\u001b[49m\n",
      "File \u001b[1;32md:\\VS CODE\\individu-feature-from-voice\\.venv\\Lib\\site-packages\\keras\\src\\layers\\convolutional\\base_conv.py:111\u001b[0m, in \u001b[0;36mBaseConv.__init__\u001b[1;34m(self, rank, filters, kernel_size, strides, padding, data_format, dilation_rate, groups, activation, use_bias, kernel_initializer, bias_initializer, kernel_regularizer, bias_regularizer, activity_regularizer, kernel_constraint, bias_constraint, lora_rank, **kwargs)\u001b[0m\n\u001b[0;32m    109\u001b[0m \u001b[38;5;28mself\u001b[39m\u001b[38;5;241m.\u001b[39mfilters \u001b[38;5;241m=\u001b[39m filters\n\u001b[0;32m    110\u001b[0m \u001b[38;5;28mself\u001b[39m\u001b[38;5;241m.\u001b[39mgroups \u001b[38;5;241m=\u001b[39m groups\n\u001b[1;32m--> 111\u001b[0m \u001b[38;5;28mself\u001b[39m\u001b[38;5;241m.\u001b[39mkernel_size \u001b[38;5;241m=\u001b[39m \u001b[43mstandardize_tuple\u001b[49m\u001b[43m(\u001b[49m\u001b[43mkernel_size\u001b[49m\u001b[43m,\u001b[49m\u001b[43m \u001b[49m\u001b[43mrank\u001b[49m\u001b[43m,\u001b[49m\u001b[43m \u001b[49m\u001b[38;5;124;43m\"\u001b[39;49m\u001b[38;5;124;43mkernel_size\u001b[39;49m\u001b[38;5;124;43m\"\u001b[39;49m\u001b[43m)\u001b[49m\n\u001b[0;32m    112\u001b[0m \u001b[38;5;28mself\u001b[39m\u001b[38;5;241m.\u001b[39mstrides \u001b[38;5;241m=\u001b[39m standardize_tuple(strides, rank, \u001b[38;5;124m\"\u001b[39m\u001b[38;5;124mstrides\u001b[39m\u001b[38;5;124m\"\u001b[39m)\n\u001b[0;32m    113\u001b[0m \u001b[38;5;28mself\u001b[39m\u001b[38;5;241m.\u001b[39mdilation_rate \u001b[38;5;241m=\u001b[39m standardize_tuple(\n\u001b[0;32m    114\u001b[0m     dilation_rate, rank, \u001b[38;5;124m\"\u001b[39m\u001b[38;5;124mdilation_rate\u001b[39m\u001b[38;5;124m\"\u001b[39m\n\u001b[0;32m    115\u001b[0m )\n",
      "File \u001b[1;32md:\\VS CODE\\individu-feature-from-voice\\.venv\\Lib\\site-packages\\keras\\src\\utils\\argument_validation.py:28\u001b[0m, in \u001b[0;36mstandardize_tuple\u001b[1;34m(value, n, name, allow_zero)\u001b[0m\n\u001b[0;32m     26\u001b[0m     \u001b[38;5;28;01mraise\u001b[39;00m \u001b[38;5;167;01mValueError\u001b[39;00m(error_msg)\n\u001b[0;32m     27\u001b[0m \u001b[38;5;28;01mif\u001b[39;00m \u001b[38;5;28mlen\u001b[39m(value_tuple) \u001b[38;5;241m!=\u001b[39m n:\n\u001b[1;32m---> 28\u001b[0m     \u001b[38;5;28;01mraise\u001b[39;00m \u001b[38;5;167;01mValueError\u001b[39;00m(error_msg)\n\u001b[0;32m     29\u001b[0m \u001b[38;5;28;01mfor\u001b[39;00m single_value \u001b[38;5;129;01min\u001b[39;00m value_tuple:\n\u001b[0;32m     30\u001b[0m     \u001b[38;5;28;01mtry\u001b[39;00m:\n",
      "\u001b[1;31mValueError\u001b[0m: The `kernel_size` argument must be a tuple of 1 integers. Received kernel_size=(3, 3)"
     ]
    }
   ],
   "source": [
    "print(Y_train_audio.shape)\n",
    "model = build_model((128, 862), Y_train_audio.shape[1])\n",
    "log = model_fit(model, X_train_audio, Y_train_audio, X_test_audio, Y_test_audio, pd.DataFrame())\n",
    "log.head()"
   ]
  },
  {
   "cell_type": "code",
   "execution_count": 167,
   "metadata": {},
   "outputs": [],
   "source": [
    "def load_and_predict(model_path, np_data):\n",
    "    \"\"\"\n",
    "    Load a model from a .h5 file and make predictions on the provided NumPy data.\n",
    "    \n",
    "    :param model_path: Path to the .h5 model file.\n",
    "    :param np_data: NumPy array containing the input data.\n",
    "    \"\"\"\n",
    "    age_categories = ['teens', 'twenties', 'thirties', 'forties', 'fifties', 'sixties', 'seventies']\n",
    "    gender_categories = ['male', 'female']\n",
    "    # Load the model from the .h5 file\n",
    "    model = tf.keras.models.load_model(model_path, custom_objects={'custom_loss': custom_loss})\n",
    "    \n",
    "    # Ensure the input data is a NumPy array of type float32\n",
    "    np_data = np.array(np_data).astype(np.float32)\n",
    "    \n",
    "    # Print the shape and dtype of the input data\n",
    "    print(\"Input data shape:\", np_data.shape, \"dtype:\", np_data.dtype)\n",
    "    \n",
    "    # Make predictions\n",
    "    predictions = model.predict(np_data)\n",
    "    \n",
    "    # Print the predictions\n",
    "    print(\"Predictions:\", predictions)\n",
    "\n",
    "\n",
    "    for i, prediction in enumerate(predictions):\n",
    "        age_pred = prediction[:7]\n",
    "        gender_pred = prediction[7:]\n",
    "        print(f\"Age prediction: {age_pred}, Gender prediction: {gender_pred}\")\n",
    "        age_index = np.argmax(age_pred)\n",
    "        gender_index = np.round(gender_pred).astype(int)  # Assuming gender prediction is a probability\n",
    "        print(age_index,gender_index)\n",
    "        \n",
    "        age_category = age_categories[age_index]\n",
    "        gender_category = gender_categories[gender_index[0]]\n",
    "        \n",
    "        print(f\"Sample {i+1}: Age - {age_category}, Gender - {gender_category}\")\n",
    "\n",
    "    \n"
   ]
  },
  {
   "cell_type": "code",
   "execution_count": 181,
   "metadata": {},
   "outputs": [
    {
     "name": "stdout",
     "output_type": "stream",
     "text": [
      "Input data shape: (5, 128, 862) dtype: float32\n",
      "\u001b[1m1/1\u001b[0m \u001b[32m━━━━━━━━━━━━━━━━━━━━\u001b[0m\u001b[37m\u001b[0m \u001b[1m7s\u001b[0m 7s/step\n",
      "Predictions: [[0.42373207 0.07550263 0.07302667 0.07168129 0.07435957 0.07046105\n",
      "  0.07391555 0.13732113]\n",
      " [0.4237381  0.07550184 0.0730258  0.07167994 0.07435881 0.0704602\n",
      "  0.07391475 0.13732062]\n",
      " [0.4237287  0.07550309 0.07302717 0.07168209 0.07435998 0.07046153\n",
      "  0.07391599 0.13732141]\n",
      " [0.42156884 0.07592505 0.07328134 0.07242474 0.07457058 0.0708379\n",
      "  0.07416435 0.13722718]\n",
      " [0.42373478 0.07550234 0.07302625 0.07168067 0.07435924 0.07046068\n",
      "  0.07391516 0.13732088]]\n",
      "Age prediction: [0.42373207 0.07550263 0.07302667 0.07168129 0.07435957 0.07046105\n",
      " 0.07391555], Gender prediction: [0.13732113]\n",
      "0 [0]\n",
      "Sample 1: Age - teens, Gender - male\n",
      "Age prediction: [0.4237381  0.07550184 0.0730258  0.07167994 0.07435881 0.0704602\n",
      " 0.07391475], Gender prediction: [0.13732062]\n",
      "0 [0]\n",
      "Sample 2: Age - teens, Gender - male\n",
      "Age prediction: [0.4237287  0.07550309 0.07302717 0.07168209 0.07435998 0.07046153\n",
      " 0.07391599], Gender prediction: [0.13732141]\n",
      "0 [0]\n",
      "Sample 3: Age - teens, Gender - male\n",
      "Age prediction: [0.42156884 0.07592505 0.07328134 0.07242474 0.07457058 0.0708379\n",
      " 0.07416435], Gender prediction: [0.13722718]\n",
      "0 [0]\n",
      "Sample 4: Age - teens, Gender - male\n",
      "Age prediction: [0.42373478 0.07550234 0.07302625 0.07168067 0.07435924 0.07046068\n",
      " 0.07391516], Gender prediction: [0.13732088]\n",
      "0 [0]\n",
      "Sample 5: Age - teens, Gender - male\n",
      "File: common_voice_fr_38307681.mp3\n",
      "Age expected = twenties, Gender expected = 1\n",
      "File: common_voice_fr_20517067.mp3\n",
      "Age expected = sixties, Gender expected = 1\n",
      "File: common_voice_fr_23617240.mp3\n",
      "Age expected = fifties, Gender expected = 1\n",
      "File: common_voice_fr_18251575.mp3\n",
      "Age expected = teens, Gender expected = 0\n",
      "File: common_voice_fr_37230167.mp3\n",
      "Age expected = fourties, Gender expected = 0\n"
     ]
    }
   ],
   "source": [
    "data = [np.load(f\"./processed/{path.replace('.mp3', '.npy')}\") for path in Y_train['path'].head(5)]\n",
    "np_data = np.array(data).reshape(-1, 128, 862)\n",
    "\n",
    "model_path = \"./model_0.keras\"\n",
    "load_and_predict(model_path, np_data)\n",
    "\n",
    "# print from Y_train the expected values based on file name\n",
    "for path in Y_train['path'].head(5):\n",
    "    expected = Y_train.loc[Y_train['path'] == path]\n",
    "    print(f\"File: {path}\")\n",
    "    print(f\"Age expected = {expected['age'].values[0]}, Gender expected = {expected['gender'].values[0]}\")\n"
   ]
  }
 ],
 "metadata": {
  "kernelspec": {
   "display_name": ".venv",
   "language": "python",
   "name": "python3"
  },
  "language_info": {
   "codemirror_mode": {
    "name": "ipython",
    "version": 3
   },
   "file_extension": ".py",
   "mimetype": "text/x-python",
   "name": "python",
   "nbconvert_exporter": "python",
   "pygments_lexer": "ipython3",
   "version": "3.11.0"
  }
 },
 "nbformat": 4,
 "nbformat_minor": 2
}

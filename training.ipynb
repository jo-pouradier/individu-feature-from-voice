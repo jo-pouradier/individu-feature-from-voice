{
 "cells": [
  {
   "cell_type": "code",
   "metadata": {},
   "source": [
    "!pip install pandas\n",
    "!pip install matplotlib\n",
    "!pip install seaborn\n",
    "!pip install tensorflow\n",
    "!pip install tensorboard"
   ],
   "outputs": [],
   "execution_count": null
  },
  {
   "cell_type": "code",
   "metadata": {},
   "source": "import pandas as pd",
   "outputs": [],
   "execution_count": null
  },
  {
   "cell_type": "code",
   "metadata": {
    "ExecuteTime": {
     "end_time": "2024-12-08T12:28:12.748603Z",
     "start_time": "2024-12-08T12:28:12.742508Z"
    }
   },
   "source": [
    "data_path = r\"D:\\datasets\\cv-corpus-19.0-2024-09-13-fr\\cv-corpus-19.0-2024-09-13\\fr\"\n",
    "data_path = r\"/mnt/d/datasets/cv-corpus-19.0-2024-09-13-fr/cv-corpus-19.0-2024-09-13/fr\"\n",
    "\n",
    "train_age_only = True\n",
    "use_ordinal_age = False\n",
    "use_early_stopping = False\n",
    "\n",
    "# Hyperparameters\n",
    "loss_age_weight = 1\n",
    "loss_genre_weight = 1\n",
    "learning_rate = 0.1\n",
    "epochs = 10\n",
    "batch_size = 64\n",
    "num_age_classes = 7\n",
    "train_ratio = 0.90"
   ],
   "outputs": [],
   "execution_count": 2
  },
  {
   "cell_type": "code",
   "metadata": {
    "ExecuteTime": {
     "end_time": "2024-12-08T12:28:12.972339Z",
     "start_time": "2024-12-08T12:28:12.910696Z"
    }
   },
   "source": [
    "from sklearn.model_selection import train_test_split\n",
    "\n",
    "\n",
    "def preprocess_label_data(label_data, keep_age=False):\n",
    "    gender_dict = {\n",
    "        'male_masculine': 0,\n",
    "        'female_feminine': 1\n",
    "    }\n",
    "    age_dict = {\n",
    "        'teens': 0,\n",
    "        'twenties': 1,\n",
    "        'thirties': 2,\n",
    "        'fourties': 3,\n",
    "        'fifties': 4,\n",
    "        'sixties': 5,\n",
    "        'seventies': 6\n",
    "    }\n",
    "    label_data = label_data.copy()\n",
    "    if keep_age:\n",
    "        serie_age = label_data['age'].copy()\n",
    "    if use_ordinal_age:\n",
    "        label_data['age'] = label_data['age'].map(age_dict)\n",
    "    else:\n",
    "        label_data = pd.get_dummies(label_data, columns=['age'])\n",
    "    label_data['gender'] = label_data['gender'].map(gender_dict)\n",
    "    return pd.concat([label_data, serie_age], axis=1) if keep_age else label_data"
   ],
   "outputs": [],
   "execution_count": 3
  },
  {
   "metadata": {
    "ExecuteTime": {
     "end_time": "2024-12-08T13:26:02.610093Z",
     "start_time": "2024-12-08T13:26:02.596719Z"
    }
   },
   "cell_type": "code",
   "source": [
    "import numpy as np\n",
    "import pandas as pd\n",
    "\n",
    "\n",
    "def load_csv_data(csv_path):\n",
    "    \"\"\"\n",
    "    Load CSV data into a DataFrame with specific columns.\n",
    "    \"\"\"\n",
    "    df = pd.read_csv(csv_path)\n",
    "    return df\n",
    "\n",
    "\n",
    "def create_dataset(csv_path, batch_size, num_age_classes, train_ratio=0.8, random_state=0):\n",
    "    \"\"\"\n",
    "    Create a tf.data.Dataset from a CSV file.\n",
    "    \"\"\"\n",
    "    # Load CSV and preprocess\n",
    "    df = load_csv_data(csv_path)\n",
    "    df = preprocess_label_data(df)\n",
    "\n",
    "    # Split the data\n",
    "    train_data, val_data = train_test_split(df, train_size=train_ratio, random_state=random_state,\n",
    "                                            stratify=df['gender'])\n",
    "    print(f\"Train data: {len(train_data)} samples\")\n",
    "    print(f\"Validation data: {len(val_data)} samples\")\n",
    "    # Convert columns to tensors\n",
    "    def convert_to_tensors(data):\n",
    "        paths = tf.convert_to_tensor(data['path'].values, dtype=tf.string)\n",
    "        ages = tf.convert_to_tensor(data['age'] if use_ordinal_age else data.iloc[:, 3:].values,\n",
    "                                    dtype=tf.float32)  # Assuming age columns start from index 3\n",
    "        if not train_age_only:\n",
    "            genders = tf.convert_to_tensor(data['gender'].values, dtype=tf.int32)\n",
    "            return paths, genders, ages\n",
    "        else:\n",
    "            return paths, ages\n",
    "\n",
    "    if not train_age_only:\n",
    "        train_paths, train_genders, train_ages = convert_to_tensors(train_data)\n",
    "        val_paths, val_genders, val_ages = convert_to_tensors(val_data)\n",
    "        # Create datasets from tensors\n",
    "        train_dataset = tf.data.Dataset.from_tensor_slices((train_paths, train_genders, train_ages))\n",
    "        val_dataset = tf.data.Dataset.from_tensor_slices((val_paths, val_genders, val_ages))\n",
    "\n",
    "        # Parse rows, and batch\n",
    "        train_dataset = (\n",
    "            train_dataset\n",
    "            .map(lambda path, gender, age: tf_parse_row(path, gender, age, num_age_classes),\n",
    "                 num_parallel_calls=tf.data.AUTOTUNE)\n",
    "            .batch(batch_size)\n",
    "            .prefetch(tf.data.AUTOTUNE)  # Prefetch for efficient data loading\n",
    "        )\n",
    "\n",
    "        val_dataset = (\n",
    "            val_dataset\n",
    "            .map(lambda path, gender, age: tf_parse_row(path, gender, age, num_age_classes),\n",
    "                 num_parallel_calls=tf.data.AUTOTUNE)\n",
    "            .batch(batch_size)\n",
    "            .prefetch(tf.data.AUTOTUNE)  # Prefetch for efficient data loading\n",
    "        )\n",
    "    else:\n",
    "        train_paths, train_ages = convert_to_tensors(train_data)\n",
    "        val_paths, val_ages = convert_to_tensors(val_data)\n",
    "        # Create datasets from tensors\n",
    "        train_dataset = tf.data.Dataset.from_tensor_slices((train_paths, train_ages))\n",
    "        val_dataset = tf.data.Dataset.from_tensor_slices((val_paths, val_ages))\n",
    "\n",
    "        # Parse rows, and batch\n",
    "        train_dataset = (\n",
    "            train_dataset\n",
    "            .map(lambda path, age: tf_parse_row(path, None, age, num_age_classes),\n",
    "                 num_parallel_calls=tf.data.AUTOTUNE)\n",
    "            .batch(batch_size)\n",
    "            .prefetch(tf.data.AUTOTUNE)  # Prefetch for efficient data loading\n",
    "        )\n",
    "\n",
    "        val_dataset = (\n",
    "            val_dataset\n",
    "            .map(lambda path, age: tf_parse_row(path, None, age, num_age_classes),\n",
    "                 num_parallel_calls=tf.data.AUTOTUNE)\n",
    "            .batch(batch_size)\n",
    "            .prefetch(tf.data.AUTOTUNE)  # Prefetch for efficient data loading\n",
    "        )\n",
    "    return train_dataset, val_dataset\n",
    "\n",
    "\n",
    "def tf_parse_row(path, gender, age, num_age_classes):\n",
    "    \"\"\"\n",
    "    Wrapper to use the parse_row function with TensorFlow.\n",
    "    \"\"\"\n",
    "\n",
    "    if not train_age_only:\n",
    "        features, age_label, gender_label = tf.py_function(\n",
    "            func=parse_row,\n",
    "            inp=[path, gender, age],\n",
    "            Tout=(tf.float32, tf.float32, tf.int32)\n",
    "        )\n",
    "\n",
    "        # Set shapes for TensorFlow to understand\n",
    "        features.set_shape([128, 862])  # Ajustez cette forme en fonction de vos données\n",
    "        age_label.set_shape([] if use_ordinal_age else [num_age_classes])\n",
    "        gender_label.set_shape([])\n",
    "        labels = {\"age\": age_label, \"gender\": gender_label}\n",
    "    else:\n",
    "        features, age_label = tf.py_function(\n",
    "            func=parse_row_age,\n",
    "            inp=[path, age],\n",
    "            Tout=(tf.float32, tf.float32)\n",
    "        )\n",
    "\n",
    "        # Set shapes for TensorFlow to understand\n",
    "        features.set_shape([128, 862])  # Ajustez cette forme en fonction de vos données\n",
    "        age_label.set_shape([] if use_ordinal_age else [num_age_classes])\n",
    "        labels = {\"age\": age_label}\n",
    "    return features, labels\n",
    "\n",
    "\n",
    "def parse_row(path, gender, age):\n",
    "    \"\"\"\n",
    "    Parse a single row to extract features and labels.\n",
    "    \"\"\"\n",
    "    # Load the numpy file (feature input)\n",
    "    features = np.load(f\"{data_path}/processed/{path.numpy().decode('utf-8').replace('mp3', 'npy')}\")\n",
    "    return features, age, gender\n",
    "\n",
    "\n",
    "def parse_row_age(path, age):\n",
    "    \"\"\"\n",
    "    Parse a single row to extract features and labels.\n",
    "    \"\"\"\n",
    "    # Load the numpy file (feature input)\n",
    "    features = np.load(f\"{data_path}/processed/{path.numpy().decode('utf-8').replace('mp3', 'npy')}\")\n",
    "    return features, age\n",
    "\n"
   ],
   "outputs": [],
   "execution_count": 6
  },
  {
   "metadata": {
    "ExecuteTime": {
     "end_time": "2024-12-08T13:26:02.946215Z",
     "start_time": "2024-12-08T13:26:02.900055Z"
    }
   },
   "cell_type": "code",
   "source": [
    "csv_path = f\"{data_path}/validated_filtered_100_per_age.csv\"\n",
    "train_dataset, val_dataset = create_dataset(csv_path, batch_size, num_age_classes, train_ratio)"
   ],
   "outputs": [
    {
     "name": "stdout",
     "output_type": "stream",
     "text": [
      "Train data: 1260 samples\n",
      "Validation data: 140 samples\n",
      "                             path  \\\n",
      "722  common_voice_fr_23412053.mp3   \n",
      "152  common_voice_fr_22102769.mp3   \n",
      "32   common_voice_fr_22740887.mp3   \n",
      "586  common_voice_fr_27360908.mp3   \n",
      "326  common_voice_fr_25112937.mp3   \n",
      "\n",
      "                                              sentence  gender  age_fifties  \\\n",
      "722  Le village est situé au bord de la rivière Vrb...       0        False   \n",
      "152                                               deux       0         True   \n",
      "32                       Il a été fabriqué par Matisa.       1         True   \n",
      "586  Elle héberge toutefois un nombre limité de con...       0        False   \n",
      "326  De cette époque date le portail occidental, de...       0        False   \n",
      "\n",
      "     age_fourties  age_seventies  age_sixties  age_teens  age_thirties  \\\n",
      "722         False          False        False       True         False   \n",
      "152         False          False        False      False         False   \n",
      "32          False          False        False      False         False   \n",
      "586         False          False        False      False         False   \n",
      "326         False          False        False      False          True   \n",
      "\n",
      "     age_twenties  \n",
      "722         False  \n",
      "152         False  \n",
      "32          False  \n",
      "586          True  \n",
      "326         False  \n"
     ]
    },
    {
     "ename": "NameError",
     "evalue": "name 'tf' is not defined",
     "output_type": "error",
     "traceback": [
      "\u001B[0;31m---------------------------------------------------------------------------\u001B[0m",
      "\u001B[0;31mNameError\u001B[0m                                 Traceback (most recent call last)",
      "Cell \u001B[0;32mIn[7], line 2\u001B[0m\n\u001B[1;32m      1\u001B[0m csv_path \u001B[38;5;241m=\u001B[39m \u001B[38;5;124mf\u001B[39m\u001B[38;5;124m\"\u001B[39m\u001B[38;5;132;01m{\u001B[39;00mdata_path\u001B[38;5;132;01m}\u001B[39;00m\u001B[38;5;124m/validated_filtered_100_per_age.csv\u001B[39m\u001B[38;5;124m\"\u001B[39m\n\u001B[0;32m----> 2\u001B[0m train_dataset, val_dataset \u001B[38;5;241m=\u001B[39m \u001B[43mcreate_dataset\u001B[49m\u001B[43m(\u001B[49m\u001B[43mcsv_path\u001B[49m\u001B[43m,\u001B[49m\u001B[43m \u001B[49m\u001B[43mbatch_size\u001B[49m\u001B[43m,\u001B[49m\u001B[43m \u001B[49m\u001B[43mnum_age_classes\u001B[49m\u001B[43m,\u001B[49m\u001B[43m \u001B[49m\u001B[43mtrain_ratio\u001B[49m\u001B[43m)\u001B[49m\n",
      "Cell \u001B[0;32mIn[6], line 62\u001B[0m, in \u001B[0;36mcreate_dataset\u001B[0;34m(csv_path, batch_size, num_age_classes, train_ratio, random_state)\u001B[0m\n\u001B[1;32m     54\u001B[0m     val_dataset \u001B[38;5;241m=\u001B[39m (\n\u001B[1;32m     55\u001B[0m         val_dataset\n\u001B[1;32m     56\u001B[0m         \u001B[38;5;241m.\u001B[39mmap(\u001B[38;5;28;01mlambda\u001B[39;00m path, gender, age: tf_parse_row(path, gender, age, num_age_classes),\n\u001B[0;32m   (...)\u001B[0m\n\u001B[1;32m     59\u001B[0m         \u001B[38;5;241m.\u001B[39mprefetch(tf\u001B[38;5;241m.\u001B[39mdata\u001B[38;5;241m.\u001B[39mAUTOTUNE)  \u001B[38;5;66;03m# Prefetch for efficient data loading\u001B[39;00m\n\u001B[1;32m     60\u001B[0m     )\n\u001B[1;32m     61\u001B[0m \u001B[38;5;28;01melse\u001B[39;00m:\n\u001B[0;32m---> 62\u001B[0m     train_paths, train_ages \u001B[38;5;241m=\u001B[39m \u001B[43mconvert_to_tensors\u001B[49m\u001B[43m(\u001B[49m\u001B[43mtrain_data\u001B[49m\u001B[43m)\u001B[49m\n\u001B[1;32m     63\u001B[0m     val_paths, val_ages \u001B[38;5;241m=\u001B[39m convert_to_tensors(val_data)\n\u001B[1;32m     64\u001B[0m     \u001B[38;5;66;03m# Create datasets from tensors\u001B[39;00m\n",
      "Cell \u001B[0;32mIn[6], line 29\u001B[0m, in \u001B[0;36mcreate_dataset.<locals>.convert_to_tensors\u001B[0;34m(data)\u001B[0m\n\u001B[1;32m     28\u001B[0m \u001B[38;5;28;01mdef\u001B[39;00m \u001B[38;5;21mconvert_to_tensors\u001B[39m(data):\n\u001B[0;32m---> 29\u001B[0m     paths \u001B[38;5;241m=\u001B[39m \u001B[43mtf\u001B[49m\u001B[38;5;241m.\u001B[39mconvert_to_tensor(data[\u001B[38;5;124m'\u001B[39m\u001B[38;5;124mpath\u001B[39m\u001B[38;5;124m'\u001B[39m]\u001B[38;5;241m.\u001B[39mvalues, dtype\u001B[38;5;241m=\u001B[39mtf\u001B[38;5;241m.\u001B[39mstring)\n\u001B[1;32m     30\u001B[0m     ages \u001B[38;5;241m=\u001B[39m tf\u001B[38;5;241m.\u001B[39mconvert_to_tensor(data[\u001B[38;5;124m'\u001B[39m\u001B[38;5;124mage\u001B[39m\u001B[38;5;124m'\u001B[39m] \u001B[38;5;28;01mif\u001B[39;00m use_ordinal_age \u001B[38;5;28;01melse\u001B[39;00m data\u001B[38;5;241m.\u001B[39miloc[:, \u001B[38;5;241m3\u001B[39m:]\u001B[38;5;241m.\u001B[39mvalues,\n\u001B[1;32m     31\u001B[0m                                 dtype\u001B[38;5;241m=\u001B[39mtf\u001B[38;5;241m.\u001B[39mfloat32)  \u001B[38;5;66;03m# Assuming age columns start from index 3\u001B[39;00m\n\u001B[1;32m     32\u001B[0m     \u001B[38;5;28;01mif\u001B[39;00m \u001B[38;5;129;01mnot\u001B[39;00m train_age_only:\n",
      "\u001B[0;31mNameError\u001B[0m: name 'tf' is not defined"
     ]
    }
   ],
   "execution_count": 7
  },
  {
   "metadata": {
    "ExecuteTime": {
     "end_time": "2024-12-08T13:26:07.155108Z",
     "start_time": "2024-12-08T13:26:03.660131Z"
    }
   },
   "cell_type": "code",
   "source": [
    "import tensorflow as tf\n",
    "from tensorflow.keras import layers, models, initializers\n",
    "\n",
    "\n",
    "class ConvBlock(layers.Layer):\n",
    "    def __init__(self, filters, kernel_size, strides=(1, 1), padding='same', activation='relu',\n",
    "                 kernel_initializer='he_normal', batch_norm=True, max_pool=True, dropout_rate=0.0):\n",
    "        super(ConvBlock, self).__init__()\n",
    "        self.conv1 = layers.Conv2D(\n",
    "            filters=filters,\n",
    "            kernel_size=kernel_size,\n",
    "            strides=strides,\n",
    "            padding=padding,\n",
    "            kernel_initializer=kernel_initializer\n",
    "        )\n",
    "        self.conv2 = layers.Conv2D(\n",
    "            filters=filters,\n",
    "            kernel_size=kernel_size,\n",
    "            strides=strides,\n",
    "            padding=padding,\n",
    "            kernel_initializer=kernel_initializer\n",
    "        )\n",
    "        self.batch_norm = layers.BatchNormalization() if batch_norm else None\n",
    "        self.activation = layers.Activation(activation)\n",
    "        self.max_pool = layers.MaxPooling2D(pool_size=(2, 2), strides=(2, 2), padding='same') if max_pool else None\n",
    "        self.dropout = layers.Dropout(dropout_rate) if dropout_rate > 0 else None\n",
    "\n",
    "    def call(self, inputs, training=False):\n",
    "        x = self.conv1(inputs, training=training)\n",
    "        x = self.conv2(x, training=training)\n",
    "        if self.batch_norm:\n",
    "            x = self.batch_norm(x, training=training)\n",
    "        x = self.activation(x)\n",
    "        if self.max_pool:\n",
    "            x = self.max_pool(x)\n",
    "        if self.dropout:\n",
    "            x = self.dropout(x, training=training)\n",
    "        return x\n",
    "\n",
    "\n",
    "class AudioAgeAndGenderClassifier(tf.keras.Model):\n",
    "    def __init__(self, input_shape=(128, 862)):\n",
    "        super(AudioAgeAndGenderClassifier, self).__init__()\n",
    "        self.blocks = [\n",
    "            ConvBlock(filters=16, kernel_size=(3, 3), strides=(1, 1), padding='same', activation='relu',\n",
    "                      kernel_initializer='he_normal', batch_norm=False, max_pool=True, dropout_rate=0.0),\n",
    "            ConvBlock(filters=32, kernel_size=(3, 3), strides=(1, 1), padding='same', activation='relu',\n",
    "                      kernel_initializer='he_normal', batch_norm=False, max_pool=True, dropout_rate=0.0),\n",
    "            ConvBlock(filters=64, kernel_size=(3, 3), strides=(1, 1), padding='same', activation='relu',\n",
    "                      kernel_initializer='he_normal', batch_norm=False, max_pool=True, dropout_rate=0.0),\n",
    "            ConvBlock(filters=128, kernel_size=(3, 3), strides=(1, 1), padding='same', activation='relu',\n",
    "                      kernel_initializer='he_normal', batch_norm=False, max_pool=True, dropout_rate=0.0),\n",
    "            # ConvBlock(filters=256, kernel_size=(3, 3), strides=(1, 1), padding='same', activation='relu',\n",
    "            #           kernel_initializer='he_normal', batch_norm=True, max_pool=True, dropout_rate=0.5),\n",
    "        ]\n",
    "\n",
    "        self.reduction_layer = layers.Flatten()\n",
    "        self.dense = layers.Dense(128, activation='sigmoid')\n",
    "        self.age_output = layers.Dense(1 if use_ordinal_age else num_age_classes,\n",
    "                                       activation=\"relu\" if use_ordinal_age else 'softmax')\n",
    "        if not train_age_only:\n",
    "            self.gender_output = layers.Dense(1, activation='sigmoid')\n",
    "\n",
    "    def call(self, inputs, training=False):\n",
    "        x = tf.expand_dims(inputs, axis=-1)\n",
    "        # x = inputs\n",
    "        for block in self.blocks:\n",
    "            x = block(x, training=training)\n",
    "\n",
    "        x = self.reduction_layer(x)\n",
    "        x = self.dense(x, training=training)\n",
    "        age_pred = self.age_output(x)\n",
    "\n",
    "        if not train_age_only:\n",
    "            gender_pred = self.gender_output(x)\n",
    "            return {\"age\": age_pred, \"gender\": gender_pred}\n",
    "        else:\n",
    "            return {\"age\": age_pred}\n",
    "\n",
    "\n",
    "# Instantiate the model\n",
    "device_name = tf.test.gpu_device_name()\n",
    "if device_name:\n",
    "    print(f\"Using GPU: {device_name}\")\n",
    "else:\n",
    "    print(\"Using CPU\")"
   ],
   "outputs": [
    {
     "name": "stderr",
     "output_type": "stream",
     "text": [
      "2024-12-08 14:26:03.844736: I tensorflow/core/util/port.cc:153] oneDNN custom operations are on. You may see slightly different numerical results due to floating-point round-off errors from different computation orders. To turn them off, set the environment variable `TF_ENABLE_ONEDNN_OPTS=0`.\n",
      "2024-12-08 14:26:03.863026: E external/local_xla/xla/stream_executor/cuda/cuda_fft.cc:477] Unable to register cuFFT factory: Attempting to register factory for plugin cuFFT when one has already been registered\n",
      "WARNING: All log messages before absl::InitializeLog() is called are written to STDERR\n",
      "E0000 00:00:1733664363.875941    7711 cuda_dnn.cc:8310] Unable to register cuDNN factory: Attempting to register factory for plugin cuDNN when one has already been registered\n",
      "E0000 00:00:1733664363.879639    7711 cuda_blas.cc:1418] Unable to register cuBLAS factory: Attempting to register factory for plugin cuBLAS when one has already been registered\n",
      "2024-12-08 14:26:03.894208: I tensorflow/core/platform/cpu_feature_guard.cc:210] This TensorFlow binary is optimized to use available CPU instructions in performance-critical operations.\n",
      "To enable the following instructions: AVX2 AVX_VNNI FMA, in other operations, rebuild TensorFlow with the appropriate compiler flags.\n"
     ]
    },
    {
     "name": "stdout",
     "output_type": "stream",
     "text": [
      "Using GPU: /device:GPU:0\n"
     ]
    },
    {
     "name": "stderr",
     "output_type": "stream",
     "text": [
      "I0000 00:00:1733664367.152631    7711 gpu_device.cc:2022] Created device /device:GPU:0 with 5563 MB memory:  -> device: 0, name: NVIDIA GeForce RTX 4060 Laptop GPU, pci bus id: 0000:01:00.0, compute capability: 8.9\n"
     ]
    }
   ],
   "execution_count": 8
  },
  {
   "metadata": {
    "ExecuteTime": {
     "end_time": "2024-12-08T13:26:07.426200Z",
     "start_time": "2024-12-08T13:26:07.164833Z"
    }
   },
   "cell_type": "code",
   "source": [
    "import tensorflow as tf\n",
    "import matplotlib.pyplot as plt\n",
    "from sklearn.metrics import confusion_matrix, ConfusionMatrixDisplay\n",
    "\n",
    "\n",
    "def age_loss_function(y_true, y_pred):\n",
    "    # return tf.reduce_mean(tf.square(y_true / num_age_classes - 1 - y_pred))\n",
    "    return tf.abs(tf.reduce_mean(y_true / num_age_classes - 1 - y_pred))\n",
    "\n",
    "\n",
    "# Compile the model\n",
    "def compile_model(model, learning_rate=0.001):\n",
    "    # Define separate losses for age and gender\n",
    "    losses = {\n",
    "        \"age\": age_loss_function if use_ordinal_age else tf.keras.losses.CategoricalCrossentropy(),\n",
    "    }\n",
    "    metrics = {\n",
    "        \"age\": [tf.keras.metrics.MeanSquaredError() if use_ordinal_age else tf.keras.metrics.CategoricalAccuracy()],\n",
    "    }\n",
    "    if not train_age_only:\n",
    "        losses[\"gender\"] = tf.keras.losses.BinaryCrossentropy()\n",
    "        metrics[\"gender\"] = [tf.keras.metrics.BinaryAccuracy()]\n",
    "\n",
    "    # Compile the model\n",
    "    model.compile(\n",
    "        optimizer=tf.keras.optimizers.Adam(learning_rate=learning_rate),\n",
    "        loss=losses,\n",
    "        loss_weights=[loss_age_weight, loss_genre_weight] if not train_age_only else [loss_age_weight],\n",
    "        metrics=metrics,\n",
    "    )\n",
    "    return model\n",
    "\n",
    "\n",
    "def plot_confusion_matrix(y_test_classes, y_pred_classes, display_labels, title=\"Confusion Matrix\"):\n",
    "    if not use_ordinal_age:\n",
    "        y_test_classes = np.argmax(y_test_classes, axis=1)\n",
    "        y_pred_classes = np.argmax(y_pred_classes, axis=1)\n",
    "    # Compute the confusion matrix\n",
    "    cm = confusion_matrix(y_test_classes, y_pred_classes)\n",
    "\n",
    "    # Optionally normalize the confusion matrix\n",
    "    # cm_normalized = cm.astype('float') / cm.sum(axis=1)[:, np.newaxis]\n",
    "    # Display the confusion matrix\n",
    "    disp = ConfusionMatrixDisplay(confusion_matrix=cm, display_labels=display_labels)\n",
    "\n",
    "    # Plot the matrix\n",
    "    disp.plot(cmap=plt.cm.Blues)\n",
    "    plt.title(title)\n",
    "    plt.show()\n",
    "\n",
    "\n",
    "def print_example_output(model, dataset):\n",
    "    predictions_list = []\n",
    "    labels_list = []\n",
    "    for batch in dataset:\n",
    "        features, labels = batch\n",
    "        # Plot confusion matrix using pyplot\n",
    "        predictions = model.predict(features)\n",
    "        predictions_list.append(predictions)\n",
    "        labels_list.append(labels)\n",
    "\n",
    "    labels = {key: np.concatenate([label[key] for label in labels_list]) for key in\n",
    "              labels_list[0].keys()}\n",
    "    predictions = {key: np.concatenate([pred[key] for pred in predictions_list]) for key in\n",
    "                   predictions_list[0].keys()}\n",
    "    plot_confusion_matrix(labels[\"age\"], predictions[\"age\"], np.arange(0, np.max(predictions[\"age\"])),\n",
    "                          title=\"Age Confusion Matrix\")\n",
    "    if not train_age_only:\n",
    "        plot_confusion_matrix(labels[\"gender\"], predictions[\"gender\"], ['male', 'female'],\n",
    "                              title=\"Gender Confusion Matrix\")\n",
    "\n",
    "\n",
    "# Train the model\n",
    "def train_model(model, dataset, validation_dataset, epochs, batch_size, verbose=0):\n",
    "    # Define callbacks\n",
    "    callbacks = [\n",
    "        tf.keras.callbacks.ModelCheckpoint(\n",
    "            \"best_model.keras\", save_best_only=True, monitor=\"val_loss\"\n",
    "        ),\n",
    "        tf.keras.callbacks.TensorBoard(log_dir=\"./logs\"),\n",
    "        tf.keras.callbacks.LambdaCallback(\n",
    "            on_epoch_end=lambda epoch, logs: print_example_output(model, val_dataset)\n",
    "        ),\n",
    "    ]\n",
    "    if use_early_stopping:\n",
    "        callbacks.append(\n",
    "            tf.keras.callbacks.EarlyStopping(\n",
    "                monitor=\"val_loss\", patience=3\n",
    "            ), )\n",
    "\n",
    "    # Train the model\n",
    "    history = model.fit(\n",
    "        dataset,\n",
    "        validation_data=validation_dataset,\n",
    "        epochs=epochs,\n",
    "        batch_size=batch_size,\n",
    "        callbacks=callbacks,\n",
    "        verbose=verbose,\n",
    "    )\n",
    "    return history\n",
    "\n",
    "\n",
    "csv_path = f\"{data_path}/validated_filtered_100_per_age.csv\"\n",
    "\n",
    "# csv_path = f\"{data_path}/validated_filtered_100.csv\"\n",
    "\n",
    "train_dataset, val_dataset = create_dataset(csv_path, batch_size, num_age_classes, train_ratio)"
   ],
   "outputs": [
    {
     "name": "stderr",
     "output_type": "stream",
     "text": [
      "I0000 00:00:1733664367.186268    7711 gpu_device.cc:2022] Created device /job:localhost/replica:0/task:0/device:GPU:0 with 5563 MB memory:  -> device: 0, name: NVIDIA GeForce RTX 4060 Laptop GPU, pci bus id: 0000:01:00.0, compute capability: 8.9\n"
     ]
    },
    {
     "name": "stdout",
     "output_type": "stream",
     "text": [
      "Train data: 1260 samples\n",
      "Validation data: 140 samples\n",
      "                             path  \\\n",
      "722  common_voice_fr_23412053.mp3   \n",
      "152  common_voice_fr_22102769.mp3   \n",
      "32   common_voice_fr_22740887.mp3   \n",
      "586  common_voice_fr_27360908.mp3   \n",
      "326  common_voice_fr_25112937.mp3   \n",
      "\n",
      "                                              sentence  gender  age_fifties  \\\n",
      "722  Le village est situé au bord de la rivière Vrb...       0        False   \n",
      "152                                               deux       0         True   \n",
      "32                       Il a été fabriqué par Matisa.       1         True   \n",
      "586  Elle héberge toutefois un nombre limité de con...       0        False   \n",
      "326  De cette époque date le portail occidental, de...       0        False   \n",
      "\n",
      "     age_fourties  age_seventies  age_sixties  age_teens  age_thirties  \\\n",
      "722         False          False        False       True         False   \n",
      "152         False          False        False      False         False   \n",
      "32          False          False        False      False         False   \n",
      "586         False          False        False      False         False   \n",
      "326         False          False        False      False          True   \n",
      "\n",
      "     age_twenties  \n",
      "722         False  \n",
      "152         False  \n",
      "32          False  \n",
      "586          True  \n",
      "326         False  \n"
     ]
    }
   ],
   "execution_count": 9
  },
  {
   "metadata": {
    "ExecuteTime": {
     "end_time": "2024-12-08T13:27:29.870069Z",
     "start_time": "2024-12-08T13:26:13.902882Z"
    }
   },
   "cell_type": "code",
   "source": [
    "# Train the model\n",
    "model = AudioAgeAndGenderClassifier()\n",
    "model = compile_model(model, learning_rate)\n",
    "history = train_model(model, train_dataset, val_dataset, epochs, batch_size, verbose=1)"
   ],
   "outputs": [
    {
     "name": "stdout",
     "output_type": "stream",
     "text": [
      "Epoch 1/10\n"
     ]
    },
    {
     "name": "stderr",
     "output_type": "stream",
     "text": [
      "WARNING: All log messages before absl::InitializeLog() is called are written to STDERR\n",
      "I0000 00:00:1733664376.331311   77399 service.cc:148] XLA service 0x7f583c015920 initialized for platform CUDA (this does not guarantee that XLA will be used). Devices:\n",
      "I0000 00:00:1733664376.331583   77399 service.cc:156]   StreamExecutor device (0): NVIDIA GeForce RTX 4060 Laptop GPU, Compute Capability 8.9\n",
      "2024-12-08 14:26:16.604591: I tensorflow/compiler/mlir/tensorflow/utils/dump_mlir_util.cc:268] disabling MLIR crash reproducer, set env var `MLIR_CRASH_REPRODUCER_DIRECTORY` to enable.\n",
      "I0000 00:00:1733664377.021061   77399 cuda_dnn.cc:529] Loaded cuDNN version 90300\n",
      "2024-12-08 14:26:32.509322: E external/local_xla/xla/service/slow_operation_alarm.cc:65] Trying algorithm eng57{k2=0,k13=2,k14=2,k18=1,k23=0} for conv (f32[16,1,3,3]{3,2,1,0}, u8[0]{0}) custom-call(f32[64,1,128,862]{3,2,1,0}, f32[64,16,128,862]{3,2,1,0}), window={size=3x3 pad=1_1x1_1}, dim_labels=bf01_oi01->bf01, custom_call_target=\"__cudnn$convBackwardFilter\", backend_config={\"cudnn_conv_backend_config\":{\"activation_mode\":\"kNone\",\"conv_result_scale\":1,\"leakyrelu_alpha\":0,\"side_input_scale\":0},\"force_earliest_schedule\":false,\"operation_queue_id\":\"0\",\"wait_on_operation_queues\":[]} is taking a while...\n",
      "2024-12-08 14:26:32.715568: E external/local_xla/xla/service/slow_operation_alarm.cc:133] The operation took 1.20653016s\n",
      "Trying algorithm eng57{k2=0,k13=2,k14=2,k18=1,k23=0} for conv (f32[16,1,3,3]{3,2,1,0}, u8[0]{0}) custom-call(f32[64,1,128,862]{3,2,1,0}, f32[64,16,128,862]{3,2,1,0}), window={size=3x3 pad=1_1x1_1}, dim_labels=bf01_oi01->bf01, custom_call_target=\"__cudnn$convBackwardFilter\", backend_config={\"cudnn_conv_backend_config\":{\"activation_mode\":\"kNone\",\"conv_result_scale\":1,\"leakyrelu_alpha\":0,\"side_input_scale\":0},\"force_earliest_schedule\":false,\"operation_queue_id\":\"0\",\"wait_on_operation_queues\":[]} is taking a while...\n",
      "I0000 00:00:1733664402.123765   77399 device_compiler.h:188] Compiled cluster using XLA!  This line is logged at most once for the lifetime of the process.\n"
     ]
    },
    {
     "name": "stdout",
     "output_type": "stream",
     "text": [
      "\u001B[1m19/20\u001B[0m \u001B[32m━━━━━━━━━━━━━━━━━━━\u001B[0m\u001B[37m━\u001B[0m \u001B[1m0s\u001B[0m 441ms/step - categorical_accuracy: 0.1663 - loss: 4.7954"
     ]
    },
    {
     "name": "stderr",
     "output_type": "stream",
     "text": [
      "2024-12-08 14:26:56.174714: W external/local_xla/xla/tsl/framework/bfc_allocator.cc:306] Allocator (GPU_0_bfc) ran out of memory trying to allocate 3.42GiB with freed_by_count=0. The caller indicates that this is not a failure, but this may mean that there could be performance gains if more memory were available.\n"
     ]
    },
    {
     "name": "stdout",
     "output_type": "stream",
     "text": [
      "\u001B[1m20/20\u001B[0m \u001B[32m━━━━━━━━━━━━━━━━━━━━\u001B[0m\u001B[37m\u001B[0m \u001B[1m0s\u001B[0m 1s/step - categorical_accuracy: 0.1663 - loss: 4.7676   "
     ]
    },
    {
     "name": "stderr",
     "output_type": "stream",
     "text": [
      "2024-12-08 14:27:14.605522: W external/local_xla/xla/tsl/framework/bfc_allocator.cc:306] Allocator (GPU_0_bfc) ran out of memory trying to allocate 4.05GiB with freed_by_count=0. The caller indicates that this is not a failure, but this may mean that there could be performance gains if more memory were available.\n"
     ]
    },
    {
     "name": "stdout",
     "output_type": "stream",
     "text": [
      "\u001B[1m2/2\u001B[0m \u001B[32m━━━━━━━━━━━━━━━━━━━━\u001B[0m\u001B[37m\u001B[0m \u001B[1m6s\u001B[0m 24ms/step\n",
      "\u001B[1m2/2\u001B[0m \u001B[32m━━━━━━━━━━━━━━━━━━━━\u001B[0m\u001B[37m\u001B[0m \u001B[1m0s\u001B[0m 19ms/step\n",
      "\u001B[1m1/1\u001B[0m \u001B[32m━━━━━━━━━━━━━━━━━━━━\u001B[0m\u001B[37m\u001B[0m \u001B[1m0s\u001B[0m 347ms/step\n"
     ]
    },
    {
     "name": "stderr",
     "output_type": "stream",
     "text": [
      "2024-12-08 14:27:29.217768: I tensorflow/core/framework/local_rendezvous.cc:405] Local rendezvous is aborting with status: OUT_OF_RANGE: End of sequence\n"
     ]
    },
    {
     "ename": "ValueError",
     "evalue": "The number of FixedLocator locations (7), usually from a call to set_ticks, does not match the number of labels (1).",
     "output_type": "error",
     "traceback": [
      "\u001B[0;31m---------------------------------------------------------------------------\u001B[0m",
      "\u001B[0;31mValueError\u001B[0m                                Traceback (most recent call last)",
      "Cell \u001B[0;32mIn[10], line 4\u001B[0m\n\u001B[1;32m      2\u001B[0m model \u001B[38;5;241m=\u001B[39m AudioAgeAndGenderClassifier()\n\u001B[1;32m      3\u001B[0m model \u001B[38;5;241m=\u001B[39m compile_model(model, learning_rate)\n\u001B[0;32m----> 4\u001B[0m history \u001B[38;5;241m=\u001B[39m \u001B[43mtrain_model\u001B[49m\u001B[43m(\u001B[49m\u001B[43mmodel\u001B[49m\u001B[43m,\u001B[49m\u001B[43m \u001B[49m\u001B[43mtrain_dataset\u001B[49m\u001B[43m,\u001B[49m\u001B[43m \u001B[49m\u001B[43mval_dataset\u001B[49m\u001B[43m,\u001B[49m\u001B[43m \u001B[49m\u001B[43mepochs\u001B[49m\u001B[43m,\u001B[49m\u001B[43m \u001B[49m\u001B[43mbatch_size\u001B[49m\u001B[43m,\u001B[49m\u001B[43m \u001B[49m\u001B[43mverbose\u001B[49m\u001B[38;5;241;43m=\u001B[39;49m\u001B[38;5;241;43m1\u001B[39;49m\u001B[43m)\u001B[49m\n",
      "Cell \u001B[0;32mIn[9], line 92\u001B[0m, in \u001B[0;36mtrain_model\u001B[0;34m(model, dataset, validation_dataset, epochs, batch_size, verbose)\u001B[0m\n\u001B[1;32m     86\u001B[0m     callbacks\u001B[38;5;241m.\u001B[39mappend(\n\u001B[1;32m     87\u001B[0m         tf\u001B[38;5;241m.\u001B[39mkeras\u001B[38;5;241m.\u001B[39mcallbacks\u001B[38;5;241m.\u001B[39mEarlyStopping(\n\u001B[1;32m     88\u001B[0m             monitor\u001B[38;5;241m=\u001B[39m\u001B[38;5;124m\"\u001B[39m\u001B[38;5;124mval_loss\u001B[39m\u001B[38;5;124m\"\u001B[39m, patience\u001B[38;5;241m=\u001B[39m\u001B[38;5;241m3\u001B[39m\n\u001B[1;32m     89\u001B[0m         ), )\n\u001B[1;32m     91\u001B[0m \u001B[38;5;66;03m# Train the model\u001B[39;00m\n\u001B[0;32m---> 92\u001B[0m history \u001B[38;5;241m=\u001B[39m \u001B[43mmodel\u001B[49m\u001B[38;5;241;43m.\u001B[39;49m\u001B[43mfit\u001B[49m\u001B[43m(\u001B[49m\n\u001B[1;32m     93\u001B[0m \u001B[43m    \u001B[49m\u001B[43mdataset\u001B[49m\u001B[43m,\u001B[49m\n\u001B[1;32m     94\u001B[0m \u001B[43m    \u001B[49m\u001B[43mvalidation_data\u001B[49m\u001B[38;5;241;43m=\u001B[39;49m\u001B[43mvalidation_dataset\u001B[49m\u001B[43m,\u001B[49m\n\u001B[1;32m     95\u001B[0m \u001B[43m    \u001B[49m\u001B[43mepochs\u001B[49m\u001B[38;5;241;43m=\u001B[39;49m\u001B[43mepochs\u001B[49m\u001B[43m,\u001B[49m\n\u001B[1;32m     96\u001B[0m \u001B[43m    \u001B[49m\u001B[43mbatch_size\u001B[49m\u001B[38;5;241;43m=\u001B[39;49m\u001B[43mbatch_size\u001B[49m\u001B[43m,\u001B[49m\n\u001B[1;32m     97\u001B[0m \u001B[43m    \u001B[49m\u001B[43mcallbacks\u001B[49m\u001B[38;5;241;43m=\u001B[39;49m\u001B[43mcallbacks\u001B[49m\u001B[43m,\u001B[49m\n\u001B[1;32m     98\u001B[0m \u001B[43m    \u001B[49m\u001B[43mverbose\u001B[49m\u001B[38;5;241;43m=\u001B[39;49m\u001B[43mverbose\u001B[49m\u001B[43m,\u001B[49m\n\u001B[1;32m     99\u001B[0m \u001B[43m\u001B[49m\u001B[43m)\u001B[49m\n\u001B[1;32m    100\u001B[0m \u001B[38;5;28;01mreturn\u001B[39;00m history\n",
      "File \u001B[0;32m~/.virtualenvs/IA-DeepLearning-5ETI/lib/python3.12/site-packages/keras/src/utils/traceback_utils.py:122\u001B[0m, in \u001B[0;36mfilter_traceback.<locals>.error_handler\u001B[0;34m(*args, **kwargs)\u001B[0m\n\u001B[1;32m    119\u001B[0m     filtered_tb \u001B[38;5;241m=\u001B[39m _process_traceback_frames(e\u001B[38;5;241m.\u001B[39m__traceback__)\n\u001B[1;32m    120\u001B[0m     \u001B[38;5;66;03m# To get the full stack trace, call:\u001B[39;00m\n\u001B[1;32m    121\u001B[0m     \u001B[38;5;66;03m# `keras.config.disable_traceback_filtering()`\u001B[39;00m\n\u001B[0;32m--> 122\u001B[0m     \u001B[38;5;28;01mraise\u001B[39;00m e\u001B[38;5;241m.\u001B[39mwith_traceback(filtered_tb) \u001B[38;5;28;01mfrom\u001B[39;00m \u001B[38;5;28;01mNone\u001B[39;00m\n\u001B[1;32m    123\u001B[0m \u001B[38;5;28;01mfinally\u001B[39;00m:\n\u001B[1;32m    124\u001B[0m     \u001B[38;5;28;01mdel\u001B[39;00m filtered_tb\n",
      "Cell \u001B[0;32mIn[9], line 82\u001B[0m, in \u001B[0;36mtrain_model.<locals>.<lambda>\u001B[0;34m(epoch, logs)\u001B[0m\n\u001B[1;32m     74\u001B[0m \u001B[38;5;28;01mdef\u001B[39;00m \u001B[38;5;21mtrain_model\u001B[39m(model, dataset, validation_dataset, epochs, batch_size, verbose\u001B[38;5;241m=\u001B[39m\u001B[38;5;241m0\u001B[39m):\n\u001B[1;32m     75\u001B[0m     \u001B[38;5;66;03m# Define callbacks\u001B[39;00m\n\u001B[1;32m     76\u001B[0m     callbacks \u001B[38;5;241m=\u001B[39m [\n\u001B[1;32m     77\u001B[0m         tf\u001B[38;5;241m.\u001B[39mkeras\u001B[38;5;241m.\u001B[39mcallbacks\u001B[38;5;241m.\u001B[39mModelCheckpoint(\n\u001B[1;32m     78\u001B[0m             \u001B[38;5;124m\"\u001B[39m\u001B[38;5;124mbest_model.keras\u001B[39m\u001B[38;5;124m\"\u001B[39m, save_best_only\u001B[38;5;241m=\u001B[39m\u001B[38;5;28;01mTrue\u001B[39;00m, monitor\u001B[38;5;241m=\u001B[39m\u001B[38;5;124m\"\u001B[39m\u001B[38;5;124mval_loss\u001B[39m\u001B[38;5;124m\"\u001B[39m\n\u001B[1;32m     79\u001B[0m         ),\n\u001B[1;32m     80\u001B[0m         tf\u001B[38;5;241m.\u001B[39mkeras\u001B[38;5;241m.\u001B[39mcallbacks\u001B[38;5;241m.\u001B[39mTensorBoard(log_dir\u001B[38;5;241m=\u001B[39m\u001B[38;5;124m\"\u001B[39m\u001B[38;5;124m./logs\u001B[39m\u001B[38;5;124m\"\u001B[39m),\n\u001B[1;32m     81\u001B[0m         tf\u001B[38;5;241m.\u001B[39mkeras\u001B[38;5;241m.\u001B[39mcallbacks\u001B[38;5;241m.\u001B[39mLambdaCallback(\n\u001B[0;32m---> 82\u001B[0m             on_epoch_end\u001B[38;5;241m=\u001B[39m\u001B[38;5;28;01mlambda\u001B[39;00m epoch, logs: \u001B[43mprint_example_output\u001B[49m\u001B[43m(\u001B[49m\u001B[43mmodel\u001B[49m\u001B[43m,\u001B[49m\u001B[43m \u001B[49m\u001B[43mval_dataset\u001B[49m\u001B[43m)\u001B[49m\n\u001B[1;32m     83\u001B[0m         ),\n\u001B[1;32m     84\u001B[0m     ]\n\u001B[1;32m     85\u001B[0m     \u001B[38;5;28;01mif\u001B[39;00m use_early_stopping:\n\u001B[1;32m     86\u001B[0m         callbacks\u001B[38;5;241m.\u001B[39mappend(\n\u001B[1;32m     87\u001B[0m             tf\u001B[38;5;241m.\u001B[39mkeras\u001B[38;5;241m.\u001B[39mcallbacks\u001B[38;5;241m.\u001B[39mEarlyStopping(\n\u001B[1;32m     88\u001B[0m                 monitor\u001B[38;5;241m=\u001B[39m\u001B[38;5;124m\"\u001B[39m\u001B[38;5;124mval_loss\u001B[39m\u001B[38;5;124m\"\u001B[39m, patience\u001B[38;5;241m=\u001B[39m\u001B[38;5;241m3\u001B[39m\n\u001B[1;32m     89\u001B[0m             ), )\n",
      "Cell \u001B[0;32mIn[9], line 66\u001B[0m, in \u001B[0;36mprint_example_output\u001B[0;34m(model, dataset)\u001B[0m\n\u001B[1;32m     62\u001B[0m labels \u001B[38;5;241m=\u001B[39m {key: np\u001B[38;5;241m.\u001B[39mconcatenate([label[key] \u001B[38;5;28;01mfor\u001B[39;00m label \u001B[38;5;129;01min\u001B[39;00m labels_list]) \u001B[38;5;28;01mfor\u001B[39;00m key \u001B[38;5;129;01min\u001B[39;00m\n\u001B[1;32m     63\u001B[0m           labels_list[\u001B[38;5;241m0\u001B[39m]\u001B[38;5;241m.\u001B[39mkeys()}\n\u001B[1;32m     64\u001B[0m predictions \u001B[38;5;241m=\u001B[39m {key: np\u001B[38;5;241m.\u001B[39mconcatenate([pred[key] \u001B[38;5;28;01mfor\u001B[39;00m pred \u001B[38;5;129;01min\u001B[39;00m predictions_list]) \u001B[38;5;28;01mfor\u001B[39;00m key \u001B[38;5;129;01min\u001B[39;00m\n\u001B[1;32m     65\u001B[0m                predictions_list[\u001B[38;5;241m0\u001B[39m]\u001B[38;5;241m.\u001B[39mkeys()}\n\u001B[0;32m---> 66\u001B[0m \u001B[43mplot_confusion_matrix\u001B[49m\u001B[43m(\u001B[49m\u001B[43mlabels\u001B[49m\u001B[43m[\u001B[49m\u001B[38;5;124;43m\"\u001B[39;49m\u001B[38;5;124;43mage\u001B[39;49m\u001B[38;5;124;43m\"\u001B[39;49m\u001B[43m]\u001B[49m\u001B[43m,\u001B[49m\u001B[43m \u001B[49m\u001B[43mpredictions\u001B[49m\u001B[43m[\u001B[49m\u001B[38;5;124;43m\"\u001B[39;49m\u001B[38;5;124;43mage\u001B[39;49m\u001B[38;5;124;43m\"\u001B[39;49m\u001B[43m]\u001B[49m\u001B[43m,\u001B[49m\u001B[43m \u001B[49m\u001B[43mnp\u001B[49m\u001B[38;5;241;43m.\u001B[39;49m\u001B[43marange\u001B[49m\u001B[43m(\u001B[49m\u001B[38;5;241;43m0\u001B[39;49m\u001B[43m,\u001B[49m\u001B[43m \u001B[49m\u001B[43mnp\u001B[49m\u001B[38;5;241;43m.\u001B[39;49m\u001B[43mmax\u001B[49m\u001B[43m(\u001B[49m\u001B[43mpredictions\u001B[49m\u001B[43m[\u001B[49m\u001B[38;5;124;43m\"\u001B[39;49m\u001B[38;5;124;43mage\u001B[39;49m\u001B[38;5;124;43m\"\u001B[39;49m\u001B[43m]\u001B[49m\u001B[43m)\u001B[49m\u001B[43m)\u001B[49m\u001B[43m,\u001B[49m\n\u001B[1;32m     67\u001B[0m \u001B[43m                      \u001B[49m\u001B[43mtitle\u001B[49m\u001B[38;5;241;43m=\u001B[39;49m\u001B[38;5;124;43m\"\u001B[39;49m\u001B[38;5;124;43mAge Confusion Matrix\u001B[39;49m\u001B[38;5;124;43m\"\u001B[39;49m\u001B[43m)\u001B[49m\n\u001B[1;32m     68\u001B[0m \u001B[38;5;28;01mif\u001B[39;00m \u001B[38;5;129;01mnot\u001B[39;00m train_age_only:\n\u001B[1;32m     69\u001B[0m     plot_confusion_matrix(labels[\u001B[38;5;124m\"\u001B[39m\u001B[38;5;124mgender\u001B[39m\u001B[38;5;124m\"\u001B[39m], predictions[\u001B[38;5;124m\"\u001B[39m\u001B[38;5;124mgender\u001B[39m\u001B[38;5;124m\"\u001B[39m], [\u001B[38;5;124m'\u001B[39m\u001B[38;5;124mmale\u001B[39m\u001B[38;5;124m'\u001B[39m, \u001B[38;5;124m'\u001B[39m\u001B[38;5;124mfemale\u001B[39m\u001B[38;5;124m'\u001B[39m],\n\u001B[1;32m     70\u001B[0m                           title\u001B[38;5;241m=\u001B[39m\u001B[38;5;124m\"\u001B[39m\u001B[38;5;124mGender Confusion Matrix\u001B[39m\u001B[38;5;124m\"\u001B[39m)\n",
      "Cell \u001B[0;32mIn[9], line 47\u001B[0m, in \u001B[0;36mplot_confusion_matrix\u001B[0;34m(y_test_classes, y_pred_classes, display_labels, title)\u001B[0m\n\u001B[1;32m     44\u001B[0m disp \u001B[38;5;241m=\u001B[39m ConfusionMatrixDisplay(confusion_matrix\u001B[38;5;241m=\u001B[39mcm, display_labels\u001B[38;5;241m=\u001B[39mdisplay_labels)\n\u001B[1;32m     46\u001B[0m \u001B[38;5;66;03m# Plot the matrix\u001B[39;00m\n\u001B[0;32m---> 47\u001B[0m \u001B[43mdisp\u001B[49m\u001B[38;5;241;43m.\u001B[39;49m\u001B[43mplot\u001B[49m\u001B[43m(\u001B[49m\u001B[43mcmap\u001B[49m\u001B[38;5;241;43m=\u001B[39;49m\u001B[43mplt\u001B[49m\u001B[38;5;241;43m.\u001B[39;49m\u001B[43mcm\u001B[49m\u001B[38;5;241;43m.\u001B[39;49m\u001B[43mBlues\u001B[49m\u001B[43m)\u001B[49m\n\u001B[1;32m     48\u001B[0m plt\u001B[38;5;241m.\u001B[39mtitle(title)\n\u001B[1;32m     49\u001B[0m plt\u001B[38;5;241m.\u001B[39mshow()\n",
      "File \u001B[0;32m~/.virtualenvs/IA-DeepLearning-5ETI/lib/python3.12/site-packages/sklearn/metrics/_plot/confusion_matrix.py:181\u001B[0m, in \u001B[0;36mConfusionMatrixDisplay.plot\u001B[0;34m(self, include_values, cmap, xticks_rotation, values_format, ax, colorbar, im_kw, text_kw)\u001B[0m\n\u001B[1;32m    179\u001B[0m \u001B[38;5;28;01mif\u001B[39;00m colorbar:\n\u001B[1;32m    180\u001B[0m     fig\u001B[38;5;241m.\u001B[39mcolorbar(\u001B[38;5;28mself\u001B[39m\u001B[38;5;241m.\u001B[39mim_, ax\u001B[38;5;241m=\u001B[39max)\n\u001B[0;32m--> 181\u001B[0m \u001B[43max\u001B[49m\u001B[38;5;241;43m.\u001B[39;49m\u001B[43mset\u001B[49m\u001B[43m(\u001B[49m\n\u001B[1;32m    182\u001B[0m \u001B[43m    \u001B[49m\u001B[43mxticks\u001B[49m\u001B[38;5;241;43m=\u001B[39;49m\u001B[43mnp\u001B[49m\u001B[38;5;241;43m.\u001B[39;49m\u001B[43marange\u001B[49m\u001B[43m(\u001B[49m\u001B[43mn_classes\u001B[49m\u001B[43m)\u001B[49m\u001B[43m,\u001B[49m\n\u001B[1;32m    183\u001B[0m \u001B[43m    \u001B[49m\u001B[43myticks\u001B[49m\u001B[38;5;241;43m=\u001B[39;49m\u001B[43mnp\u001B[49m\u001B[38;5;241;43m.\u001B[39;49m\u001B[43marange\u001B[49m\u001B[43m(\u001B[49m\u001B[43mn_classes\u001B[49m\u001B[43m)\u001B[49m\u001B[43m,\u001B[49m\n\u001B[1;32m    184\u001B[0m \u001B[43m    \u001B[49m\u001B[43mxticklabels\u001B[49m\u001B[38;5;241;43m=\u001B[39;49m\u001B[43mdisplay_labels\u001B[49m\u001B[43m,\u001B[49m\n\u001B[1;32m    185\u001B[0m \u001B[43m    \u001B[49m\u001B[43myticklabels\u001B[49m\u001B[38;5;241;43m=\u001B[39;49m\u001B[43mdisplay_labels\u001B[49m\u001B[43m,\u001B[49m\n\u001B[1;32m    186\u001B[0m \u001B[43m    \u001B[49m\u001B[43mylabel\u001B[49m\u001B[38;5;241;43m=\u001B[39;49m\u001B[38;5;124;43m\"\u001B[39;49m\u001B[38;5;124;43mTrue label\u001B[39;49m\u001B[38;5;124;43m\"\u001B[39;49m\u001B[43m,\u001B[49m\n\u001B[1;32m    187\u001B[0m \u001B[43m    \u001B[49m\u001B[43mxlabel\u001B[49m\u001B[38;5;241;43m=\u001B[39;49m\u001B[38;5;124;43m\"\u001B[39;49m\u001B[38;5;124;43mPredicted label\u001B[39;49m\u001B[38;5;124;43m\"\u001B[39;49m\u001B[43m,\u001B[49m\n\u001B[1;32m    188\u001B[0m \u001B[43m\u001B[49m\u001B[43m)\u001B[49m\n\u001B[1;32m    190\u001B[0m ax\u001B[38;5;241m.\u001B[39mset_ylim((n_classes \u001B[38;5;241m-\u001B[39m \u001B[38;5;241m0.5\u001B[39m, \u001B[38;5;241m-\u001B[39m\u001B[38;5;241m0.5\u001B[39m))\n\u001B[1;32m    191\u001B[0m plt\u001B[38;5;241m.\u001B[39msetp(ax\u001B[38;5;241m.\u001B[39mget_xticklabels(), rotation\u001B[38;5;241m=\u001B[39mxticks_rotation)\n",
      "File \u001B[0;32m~/.virtualenvs/IA-DeepLearning-5ETI/lib/python3.12/site-packages/matplotlib/artist.py:147\u001B[0m, in \u001B[0;36mArtist.__init_subclass__.<locals>.<lambda>\u001B[0;34m(self, **kwargs)\u001B[0m\n\u001B[1;32m    139\u001B[0m \u001B[38;5;28;01mif\u001B[39;00m \u001B[38;5;129;01mnot\u001B[39;00m \u001B[38;5;28mhasattr\u001B[39m(\u001B[38;5;28mcls\u001B[39m\u001B[38;5;241m.\u001B[39mset, \u001B[38;5;124m'\u001B[39m\u001B[38;5;124m_autogenerated_signature\u001B[39m\u001B[38;5;124m'\u001B[39m):\n\u001B[1;32m    140\u001B[0m     \u001B[38;5;66;03m# Don't overwrite cls.set if the subclass or one of its parents\u001B[39;00m\n\u001B[1;32m    141\u001B[0m     \u001B[38;5;66;03m# has defined a set method set itself.\u001B[39;00m\n\u001B[1;32m    142\u001B[0m     \u001B[38;5;66;03m# If there was no explicit definition, cls.set is inherited from\u001B[39;00m\n\u001B[1;32m    143\u001B[0m     \u001B[38;5;66;03m# the hierarchy of auto-generated set methods, which hold the\u001B[39;00m\n\u001B[1;32m    144\u001B[0m     \u001B[38;5;66;03m# flag _autogenerated_signature.\u001B[39;00m\n\u001B[1;32m    145\u001B[0m     \u001B[38;5;28;01mreturn\u001B[39;00m\n\u001B[0;32m--> 147\u001B[0m \u001B[38;5;28mcls\u001B[39m\u001B[38;5;241m.\u001B[39mset \u001B[38;5;241m=\u001B[39m \u001B[38;5;28;01mlambda\u001B[39;00m \u001B[38;5;28mself\u001B[39m, \u001B[38;5;241m*\u001B[39m\u001B[38;5;241m*\u001B[39mkwargs: \u001B[43mArtist\u001B[49m\u001B[38;5;241;43m.\u001B[39;49m\u001B[43mset\u001B[49m\u001B[43m(\u001B[49m\u001B[38;5;28;43mself\u001B[39;49m\u001B[43m,\u001B[49m\u001B[43m \u001B[49m\u001B[38;5;241;43m*\u001B[39;49m\u001B[38;5;241;43m*\u001B[39;49m\u001B[43mkwargs\u001B[49m\u001B[43m)\u001B[49m\n\u001B[1;32m    148\u001B[0m \u001B[38;5;28mcls\u001B[39m\u001B[38;5;241m.\u001B[39mset\u001B[38;5;241m.\u001B[39m\u001B[38;5;18m__name__\u001B[39m \u001B[38;5;241m=\u001B[39m \u001B[38;5;124m\"\u001B[39m\u001B[38;5;124mset\u001B[39m\u001B[38;5;124m\"\u001B[39m\n\u001B[1;32m    149\u001B[0m \u001B[38;5;28mcls\u001B[39m\u001B[38;5;241m.\u001B[39mset\u001B[38;5;241m.\u001B[39m\u001B[38;5;18m__qualname__\u001B[39m \u001B[38;5;241m=\u001B[39m \u001B[38;5;124mf\u001B[39m\u001B[38;5;124m\"\u001B[39m\u001B[38;5;132;01m{\u001B[39;00m\u001B[38;5;28mcls\u001B[39m\u001B[38;5;241m.\u001B[39m\u001B[38;5;18m__qualname__\u001B[39m\u001B[38;5;132;01m}\u001B[39;00m\u001B[38;5;124m.set\u001B[39m\u001B[38;5;124m\"\u001B[39m\n",
      "File \u001B[0;32m~/.virtualenvs/IA-DeepLearning-5ETI/lib/python3.12/site-packages/matplotlib/artist.py:1224\u001B[0m, in \u001B[0;36mArtist.set\u001B[0;34m(self, **kwargs)\u001B[0m\n\u001B[1;32m   1220\u001B[0m \u001B[38;5;28;01mdef\u001B[39;00m \u001B[38;5;21mset\u001B[39m(\u001B[38;5;28mself\u001B[39m, \u001B[38;5;241m*\u001B[39m\u001B[38;5;241m*\u001B[39mkwargs):\n\u001B[1;32m   1221\u001B[0m     \u001B[38;5;66;03m# docstring and signature are auto-generated via\u001B[39;00m\n\u001B[1;32m   1222\u001B[0m     \u001B[38;5;66;03m# Artist._update_set_signature_and_docstring() at the end of the\u001B[39;00m\n\u001B[1;32m   1223\u001B[0m     \u001B[38;5;66;03m# module.\u001B[39;00m\n\u001B[0;32m-> 1224\u001B[0m     \u001B[38;5;28;01mreturn\u001B[39;00m \u001B[38;5;28;43mself\u001B[39;49m\u001B[38;5;241;43m.\u001B[39;49m\u001B[43m_internal_update\u001B[49m\u001B[43m(\u001B[49m\u001B[43mcbook\u001B[49m\u001B[38;5;241;43m.\u001B[39;49m\u001B[43mnormalize_kwargs\u001B[49m\u001B[43m(\u001B[49m\u001B[43mkwargs\u001B[49m\u001B[43m,\u001B[49m\u001B[43m \u001B[49m\u001B[38;5;28;43mself\u001B[39;49m\u001B[43m)\u001B[49m\u001B[43m)\u001B[49m\n",
      "File \u001B[0;32m~/.virtualenvs/IA-DeepLearning-5ETI/lib/python3.12/site-packages/matplotlib/artist.py:1216\u001B[0m, in \u001B[0;36mArtist._internal_update\u001B[0;34m(self, kwargs)\u001B[0m\n\u001B[1;32m   1209\u001B[0m \u001B[38;5;28;01mdef\u001B[39;00m \u001B[38;5;21m_internal_update\u001B[39m(\u001B[38;5;28mself\u001B[39m, kwargs):\n\u001B[1;32m   1210\u001B[0m \u001B[38;5;250m    \u001B[39m\u001B[38;5;124;03m\"\"\"\u001B[39;00m\n\u001B[1;32m   1211\u001B[0m \u001B[38;5;124;03m    Update artist properties without prenormalizing them, but generating\u001B[39;00m\n\u001B[1;32m   1212\u001B[0m \u001B[38;5;124;03m    errors as if calling `set`.\u001B[39;00m\n\u001B[1;32m   1213\u001B[0m \n\u001B[1;32m   1214\u001B[0m \u001B[38;5;124;03m    The lack of prenormalization is to maintain backcompatibility.\u001B[39;00m\n\u001B[1;32m   1215\u001B[0m \u001B[38;5;124;03m    \"\"\"\u001B[39;00m\n\u001B[0;32m-> 1216\u001B[0m     \u001B[38;5;28;01mreturn\u001B[39;00m \u001B[38;5;28;43mself\u001B[39;49m\u001B[38;5;241;43m.\u001B[39;49m\u001B[43m_update_props\u001B[49m\u001B[43m(\u001B[49m\n\u001B[1;32m   1217\u001B[0m \u001B[43m        \u001B[49m\u001B[43mkwargs\u001B[49m\u001B[43m,\u001B[49m\u001B[43m \u001B[49m\u001B[38;5;124;43m\"\u001B[39;49m\u001B[38;5;132;43;01m{cls.__name__}\u001B[39;49;00m\u001B[38;5;124;43m.set() got an unexpected keyword argument \u001B[39;49m\u001B[38;5;124;43m\"\u001B[39;49m\n\u001B[1;32m   1218\u001B[0m \u001B[43m        \u001B[49m\u001B[38;5;124;43m\"\u001B[39;49m\u001B[38;5;132;43;01m{prop_name!r}\u001B[39;49;00m\u001B[38;5;124;43m\"\u001B[39;49m\u001B[43m)\u001B[49m\n",
      "File \u001B[0;32m~/.virtualenvs/IA-DeepLearning-5ETI/lib/python3.12/site-packages/matplotlib/artist.py:1192\u001B[0m, in \u001B[0;36mArtist._update_props\u001B[0;34m(self, props, errfmt)\u001B[0m\n\u001B[1;32m   1189\u001B[0m             \u001B[38;5;28;01mif\u001B[39;00m \u001B[38;5;129;01mnot\u001B[39;00m \u001B[38;5;28mcallable\u001B[39m(func):\n\u001B[1;32m   1190\u001B[0m                 \u001B[38;5;28;01mraise\u001B[39;00m \u001B[38;5;167;01mAttributeError\u001B[39;00m(\n\u001B[1;32m   1191\u001B[0m                     errfmt\u001B[38;5;241m.\u001B[39mformat(\u001B[38;5;28mcls\u001B[39m\u001B[38;5;241m=\u001B[39m\u001B[38;5;28mtype\u001B[39m(\u001B[38;5;28mself\u001B[39m), prop_name\u001B[38;5;241m=\u001B[39mk))\n\u001B[0;32m-> 1192\u001B[0m             ret\u001B[38;5;241m.\u001B[39mappend(\u001B[43mfunc\u001B[49m\u001B[43m(\u001B[49m\u001B[43mv\u001B[49m\u001B[43m)\u001B[49m)\n\u001B[1;32m   1193\u001B[0m \u001B[38;5;28;01mif\u001B[39;00m ret:\n\u001B[1;32m   1194\u001B[0m     \u001B[38;5;28mself\u001B[39m\u001B[38;5;241m.\u001B[39mpchanged()\n",
      "File \u001B[0;32m~/.virtualenvs/IA-DeepLearning-5ETI/lib/python3.12/site-packages/matplotlib/axes/_base.py:74\u001B[0m, in \u001B[0;36m_axis_method_wrapper.__set_name__.<locals>.wrapper\u001B[0;34m(self, *args, **kwargs)\u001B[0m\n\u001B[1;32m     73\u001B[0m \u001B[38;5;28;01mdef\u001B[39;00m \u001B[38;5;21mwrapper\u001B[39m(\u001B[38;5;28mself\u001B[39m, \u001B[38;5;241m*\u001B[39margs, \u001B[38;5;241m*\u001B[39m\u001B[38;5;241m*\u001B[39mkwargs):\n\u001B[0;32m---> 74\u001B[0m     \u001B[38;5;28;01mreturn\u001B[39;00m \u001B[43mget_method\u001B[49m\u001B[43m(\u001B[49m\u001B[38;5;28;43mself\u001B[39;49m\u001B[43m)\u001B[49m\u001B[43m(\u001B[49m\u001B[38;5;241;43m*\u001B[39;49m\u001B[43margs\u001B[49m\u001B[43m,\u001B[49m\u001B[43m \u001B[49m\u001B[38;5;241;43m*\u001B[39;49m\u001B[38;5;241;43m*\u001B[39;49m\u001B[43mkwargs\u001B[49m\u001B[43m)\u001B[49m\n",
      "File \u001B[0;32m~/.virtualenvs/IA-DeepLearning-5ETI/lib/python3.12/site-packages/matplotlib/axis.py:2071\u001B[0m, in \u001B[0;36mAxis.set_ticklabels\u001B[0;34m(self, labels, minor, fontdict, **kwargs)\u001B[0m\n\u001B[1;32m   2067\u001B[0m \u001B[38;5;28;01melif\u001B[39;00m \u001B[38;5;28misinstance\u001B[39m(locator, mticker\u001B[38;5;241m.\u001B[39mFixedLocator):\n\u001B[1;32m   2068\u001B[0m     \u001B[38;5;66;03m# Passing [] as a list of labels is often used as a way to\u001B[39;00m\n\u001B[1;32m   2069\u001B[0m     \u001B[38;5;66;03m# remove all tick labels, so only error for > 0 labels\u001B[39;00m\n\u001B[1;32m   2070\u001B[0m     \u001B[38;5;28;01mif\u001B[39;00m \u001B[38;5;28mlen\u001B[39m(locator\u001B[38;5;241m.\u001B[39mlocs) \u001B[38;5;241m!=\u001B[39m \u001B[38;5;28mlen\u001B[39m(labels) \u001B[38;5;129;01mand\u001B[39;00m \u001B[38;5;28mlen\u001B[39m(labels) \u001B[38;5;241m!=\u001B[39m \u001B[38;5;241m0\u001B[39m:\n\u001B[0;32m-> 2071\u001B[0m         \u001B[38;5;28;01mraise\u001B[39;00m \u001B[38;5;167;01mValueError\u001B[39;00m(\n\u001B[1;32m   2072\u001B[0m             \u001B[38;5;124m\"\u001B[39m\u001B[38;5;124mThe number of FixedLocator locations\u001B[39m\u001B[38;5;124m\"\u001B[39m\n\u001B[1;32m   2073\u001B[0m             \u001B[38;5;124mf\u001B[39m\u001B[38;5;124m\"\u001B[39m\u001B[38;5;124m (\u001B[39m\u001B[38;5;132;01m{\u001B[39;00m\u001B[38;5;28mlen\u001B[39m(locator\u001B[38;5;241m.\u001B[39mlocs)\u001B[38;5;132;01m}\u001B[39;00m\u001B[38;5;124m), usually from a call to\u001B[39m\u001B[38;5;124m\"\u001B[39m\n\u001B[1;32m   2074\u001B[0m             \u001B[38;5;124m\"\u001B[39m\u001B[38;5;124m set_ticks, does not match\u001B[39m\u001B[38;5;124m\"\u001B[39m\n\u001B[1;32m   2075\u001B[0m             \u001B[38;5;124mf\u001B[39m\u001B[38;5;124m\"\u001B[39m\u001B[38;5;124m the number of labels (\u001B[39m\u001B[38;5;132;01m{\u001B[39;00m\u001B[38;5;28mlen\u001B[39m(labels)\u001B[38;5;132;01m}\u001B[39;00m\u001B[38;5;124m).\u001B[39m\u001B[38;5;124m\"\u001B[39m)\n\u001B[1;32m   2076\u001B[0m     tickd \u001B[38;5;241m=\u001B[39m {loc: lab \u001B[38;5;28;01mfor\u001B[39;00m loc, lab \u001B[38;5;129;01min\u001B[39;00m \u001B[38;5;28mzip\u001B[39m(locator\u001B[38;5;241m.\u001B[39mlocs, labels)}\n\u001B[1;32m   2077\u001B[0m     func \u001B[38;5;241m=\u001B[39m functools\u001B[38;5;241m.\u001B[39mpartial(\u001B[38;5;28mself\u001B[39m\u001B[38;5;241m.\u001B[39m_format_with_dict, tickd)\n",
      "\u001B[0;31mValueError\u001B[0m: The number of FixedLocator locations (7), usually from a call to set_ticks, does not match the number of labels (1)."
     ]
    },
    {
     "data": {
      "text/plain": [
       "<Figure size 640x480 with 2 Axes>"
      ],
      "image/png": "[encoded data removed]"
     },
     "metadata": {},
     "output_type": "display_data"
    }
   ],
   "execution_count": 10
  },
  {
   "metadata": {
    "ExecuteTime": {
     "end_time": "2024-12-05T14:59:24.417622Z",
     "start_time": "2024-12-05T14:59:24.400995Z"
    }
   },
   "cell_type": "code",
   "source": "model.summary()",
   "outputs": [
    {
     "data": {
      "text/plain": [
       "\u001B[1mModel: \"audio_age_and_gender_classifier_11\"\u001B[0m\n"
      ],
      "text/html": [
       "<pre style=\"white-space:pre;overflow-x:auto;line-height:normal;font-family:Menlo,'DejaVu Sans Mono',consolas,'Courier New',monospace\"><span style=\"font-weight: bold\">Model: \"audio_age_and_gender_classifier_11\"</span>\n",
       "</pre>\n"
      ]
     },
     "metadata": {},
     "output_type": "display_data"
    },
    {
     "data": {
      "text/plain": [
       "┏━━━━━━━━━━━━━━━━━━━━━━━━━━━━━━━━━┳━━━━━━━━━━━━━━━━━━━━━━━━┳━━━━━━━━━━━━━━━┓\n",
       "┃\u001B[1m \u001B[0m\u001B[1mLayer (type)                   \u001B[0m\u001B[1m \u001B[0m┃\u001B[1m \u001B[0m\u001B[1mOutput Shape          \u001B[0m\u001B[1m \u001B[0m┃\u001B[1m \u001B[0m\u001B[1m      Param #\u001B[0m\u001B[1m \u001B[0m┃\n",
       "┡━━━━━━━━━━━━━━━━━━━━━━━━━━━━━━━━━╇━━━━━━━━━━━━━━━━━━━━━━━━╇━━━━━━━━━━━━━━━┩\n",
       "│ conv_block_78 (\u001B[38;5;33mConvBlock\u001B[0m)       │ ?                      │           \u001B[38;5;34m224\u001B[0m │\n",
       "├─────────────────────────────────┼────────────────────────┼───────────────┤\n",
       "│ flatten_11 (\u001B[38;5;33mFlatten\u001B[0m)            │ (\u001B[38;5;45mNone\u001B[0m, \u001B[38;5;34m441344\u001B[0m)         │             \u001B[38;5;34m0\u001B[0m │\n",
       "├─────────────────────────────────┼────────────────────────┼───────────────┤\n",
       "│ dense_22 (\u001B[38;5;33mDense\u001B[0m)                │ (\u001B[38;5;45mNone\u001B[0m, \u001B[38;5;34m128\u001B[0m)            │    \u001B[38;5;34m56,492,160\u001B[0m │\n",
       "├─────────────────────────────────┼────────────────────────┼───────────────┤\n",
       "│ dense_23 (\u001B[38;5;33mDense\u001B[0m)                │ (\u001B[38;5;45mNone\u001B[0m, \u001B[38;5;34m1\u001B[0m)              │           \u001B[38;5;34m129\u001B[0m │\n",
       "└─────────────────────────────────┴────────────────────────┴───────────────┘\n"
      ],
      "text/html": [
       "<pre style=\"white-space:pre;overflow-x:auto;line-height:normal;font-family:Menlo,'DejaVu Sans Mono',consolas,'Courier New',monospace\">┏━━━━━━━━━━━━━━━━━━━━━━━━━━━━━━━━━┳━━━━━━━━━━━━━━━━━━━━━━━━┳━━━━━━━━━━━━━━━┓\n",
       "┃<span style=\"font-weight: bold\"> Layer (type)                    </span>┃<span style=\"font-weight: bold\"> Output Shape           </span>┃<span style=\"font-weight: bold\">       Param # </span>┃\n",
       "┡━━━━━━━━━━━━━━━━━━━━━━━━━━━━━━━━━╇━━━━━━━━━━━━━━━━━━━━━━━━╇━━━━━━━━━━━━━━━┩\n",
       "│ conv_block_78 (<span style=\"color: #0087ff; text-decoration-color: #0087ff\">ConvBlock</span>)       │ ?                      │           <span style=\"color: #00af00; text-decoration-color: #00af00\">224</span> │\n",
       "├─────────────────────────────────┼────────────────────────┼───────────────┤\n",
       "│ flatten_11 (<span style=\"color: #0087ff; text-decoration-color: #0087ff\">Flatten</span>)            │ (<span style=\"color: #00d7ff; text-decoration-color: #00d7ff\">None</span>, <span style=\"color: #00af00; text-decoration-color: #00af00\">441344</span>)         │             <span style=\"color: #00af00; text-decoration-color: #00af00\">0</span> │\n",
       "├─────────────────────────────────┼────────────────────────┼───────────────┤\n",
       "│ dense_22 (<span style=\"color: #0087ff; text-decoration-color: #0087ff\">Dense</span>)                │ (<span style=\"color: #00d7ff; text-decoration-color: #00d7ff\">None</span>, <span style=\"color: #00af00; text-decoration-color: #00af00\">128</span>)            │    <span style=\"color: #00af00; text-decoration-color: #00af00\">56,492,160</span> │\n",
       "├─────────────────────────────────┼────────────────────────┼───────────────┤\n",
       "│ dense_23 (<span style=\"color: #0087ff; text-decoration-color: #0087ff\">Dense</span>)                │ (<span style=\"color: #00d7ff; text-decoration-color: #00d7ff\">None</span>, <span style=\"color: #00af00; text-decoration-color: #00af00\">1</span>)              │           <span style=\"color: #00af00; text-decoration-color: #00af00\">129</span> │\n",
       "└─────────────────────────────────┴────────────────────────┴───────────────┘\n",
       "</pre>\n"
      ]
     },
     "metadata": {},
     "output_type": "display_data"
    },
    {
     "data": {
      "text/plain": [
       "\u001B[1m Total params: \u001B[0m\u001B[38;5;34m169,477,477\u001B[0m (646.51 MB)\n"
      ],
      "text/html": [
       "<pre style=\"white-space:pre;overflow-x:auto;line-height:normal;font-family:Menlo,'DejaVu Sans Mono',consolas,'Courier New',monospace\"><span style=\"font-weight: bold\"> Total params: </span><span style=\"color: #00af00; text-decoration-color: #00af00\">169,477,477</span> (646.51 MB)\n",
       "</pre>\n"
      ]
     },
     "metadata": {},
     "output_type": "display_data"
    },
    {
     "data": {
      "text/plain": [
       "\u001B[1m Trainable params: \u001B[0m\u001B[38;5;34m56,492,481\u001B[0m (215.50 MB)\n"
      ],
      "text/html": [
       "<pre style=\"white-space:pre;overflow-x:auto;line-height:normal;font-family:Menlo,'DejaVu Sans Mono',consolas,'Courier New',monospace\"><span style=\"font-weight: bold\"> Trainable params: </span><span style=\"color: #00af00; text-decoration-color: #00af00\">56,492,481</span> (215.50 MB)\n",
       "</pre>\n"
      ]
     },
     "metadata": {},
     "output_type": "display_data"
    },
    {
     "data": {
      "text/plain": [
       "\u001B[1m Non-trainable params: \u001B[0m\u001B[38;5;34m32\u001B[0m (128.00 B)\n"
      ],
      "text/html": [
       "<pre style=\"white-space:pre;overflow-x:auto;line-height:normal;font-family:Menlo,'DejaVu Sans Mono',consolas,'Courier New',monospace\"><span style=\"font-weight: bold\"> Non-trainable params: </span><span style=\"color: #00af00; text-decoration-color: #00af00\">32</span> (128.00 B)\n",
       "</pre>\n"
      ]
     },
     "metadata": {},
     "output_type": "display_data"
    },
    {
     "data": {
      "text/plain": [
       "\u001B[1m Optimizer params: \u001B[0m\u001B[38;5;34m112,984,964\u001B[0m (431.00 MB)\n"
      ],
      "text/html": [
       "<pre style=\"white-space:pre;overflow-x:auto;line-height:normal;font-family:Menlo,'DejaVu Sans Mono',consolas,'Courier New',monospace\"><span style=\"font-weight: bold\"> Optimizer params: </span><span style=\"color: #00af00; text-decoration-color: #00af00\">112,984,964</span> (431.00 MB)\n",
       "</pre>\n"
      ]
     },
     "metadata": {},
     "output_type": "display_data"
    }
   ],
   "execution_count": 79
  },
  {
   "metadata": {
    "ExecuteTime": {
     "end_time": "2024-12-06T15:37:42.445537Z",
     "start_time": "2024-12-06T15:37:42.140068Z"
    }
   },
   "cell_type": "code",
   "source": [
    "# Visualise a batch on the same figure\n",
    "import matplotlib.pyplot as plt\n",
    "features, labels = train_dataset.take(1).as_numpy_iterator().next()\n",
    "plt.figure(figsize=(12, 6))\n",
    "for i, feature in enumerate(features):\n",
    "    if i != 5:\n",
    "        continue\n",
    "    print(f\"Feature shape: {feature.shape}\")\n",
    "    plt.imshow(feature, cmap='viridis')\n",
    "plt.show()"
   ],
   "outputs": [
    {
     "name": "stdout",
     "output_type": "stream",
     "text": [
      "Feature shape: (128, 862)\n"
     ]
    },
    {
     "data": {
      "text/plain": [
       "<Figure size 1200x600 with 1 Axes>"
      ],
      "image/png": "[encoded data removed]"
     },
     "metadata": {},
     "output_type": "display_data"
    }
   ],
   "execution_count": 22
  },
  {
   "metadata": {},
   "cell_type": "code",
   "source": "",
   "outputs": [],
   "execution_count": null
  }
 ],
 "metadata": {
  "kernelspec": {
   "display_name": ".venv",
   "language": "python",
   "name": "python3"
  },
  "language_info": {
   "codemirror_mode": {
    "name": "ipython",
    "version": 3
   },
   "file_extension": ".py",
   "mimetype": "text/x-python",
   "name": "python",
   "nbconvert_exporter": "python",
   "pygments_lexer": "ipython3",
   "version": "3.11.0"
  }
 },
 "nbformat": 4,
 "nbformat_minor": 2
}
